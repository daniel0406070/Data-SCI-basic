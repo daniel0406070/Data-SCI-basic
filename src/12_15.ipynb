{
 "cells": [
  {
   "cell_type": "code",
   "execution_count": 2,
   "metadata": {},
   "outputs": [
    {
     "name": "stdout",
     "output_type": "stream",
     "text": [
      "[3.  2.2 1.8 2.4 3.2 2.6 3.4 2.8 2.2 3.8 2.4 3.6 3.2 2.6 2.8 3.2 3.4 2.8\n",
      " 3.8 3.  2.  2.8 2.8 3.6 2.8 3.2 3.  3.6 2.2 3.2 3.4 2.4 3.4 2.  2.4 3.4\n",
      " 3.2 2.2 3.2 4.6 2.8 3.6 3.  3.2 3.4 3.  3.4 2.6 3.4 3.  3.8 3.  2.6 4.\n",
      " 2.4 3.4 2.8 3.8 3.2 2.4 2.2 3.  2.  1.8 3.2 3.6 3.  1.6 2.  3.8 4.2 1.6\n",
      " 3.6 3.  2.6 3.2 2.  3.8 2.6 2.8 2.8 2.  2.8 3.2 3.6 3.2 3.2 3.  2.6 2.8\n",
      " 2.8 2.4 3.2 4.  3.4 1.4 4.  1.6 3.2 2.8 4.6 3.2 3.8 3.8 4.  3.  2.  1.8\n",
      " 2.4 4.6 3.  2.8 3.4 2.8 4.  3.8 3.4 3.  2.4 2.6 2.2 3.4 2.2 2.2 3.8 2.8\n",
      " 2.8 3.2 3.2 3.2 2.2 2.8 4.  3.6 3.  2.  3.2 3.  3.2 2.6 2.8 2.8 2.6 1.8\n",
      " 4.2 3.4 2.8 3.6 3.4 3.2 3.  3.  4.4 3.  2.6 2.  3.  2.4 4.4 3.6 2.4 3.4\n",
      " 2.4 3.8 4.2 2.4 3.2 3.4 3.6 4.  1.8 3.  3.6 2.  3.8 3.2 3.8 2.  4.4 3.2\n",
      " 3.4 2.4 3.2 2.8 2.8 3.  2.4 2.4 2.6 3.  2.6 3.8 3.2 2.8 2.8 3.4 2.8 2.4\n",
      " 2.4 3.6 3.2 3.2 3.2 2.6 2.6 3.8 3.  3.2 3.6 3.2 3.4 3.2 3.4 3.8 3.8 2.2\n",
      " 2.6 3.  2.8 3.  3.4 3.4 3.4 3.6 2.4 3.6 3.8 3.4 3.2 3.4 2.4 3.4 3.  4.2\n",
      " 3.  3.  2.6 3.2 4.  2.6 2.6 4.2 2.  3.4 3.  3.  4.  3.6 4.  4.2 1.6 2.6\n",
      " 2.8 4.4 2.2 3.6 2.6 3.4 3.2 3.6 2.6 3.8 3.  2.6 2.4 2.6 2.8 3.6 3.8 2.4\n",
      " 2.8 3.4 4.2 3.4 2.6 4.  2.4 3.4 3.6 3.  3.4 3.4 2.2 3.4 2.4 3.  3.2 2.6\n",
      " 3.2 2.6 3.  2.  3.  3.  3.4 3.8 3.2 3.2 3.8 4.6 3.2 3.2 2.4 3.8 3.4 1.6\n",
      " 3.4 3.4 3.4 4.6 2.2 3.4 2.6 3.2 3.2 2.8 3.4 3.2 3.2 3.4 2.4 3.6 2.  3.6\n",
      " 2.  4.  3.2 3.4 1.8 3.4 1.8 3.4 3.4 4.4 3.2 2.6 2.8 2.4 2.  3.  3.6 2.2\n",
      " 2.4 2.6 4.2 3.6 3.2 3.2 2.4 3.4 2.8 3.8 3.  2.6 2.8 2.4 3.8 2.8 4.2 3.4\n",
      " 2.8 2.6 3.8 2.8 2.6 3.  3.6 3.4 2.8 2.2 2.4 3.6 3.  3.6 2.6 3.2 2.4 3.2\n",
      " 3.6 3.  3.2 2.4 3.4 4.  2.6 1.6 3.6 3.2 3.8 4.  3.6 2.4 2.  3.8 1.4 2.8\n",
      " 2.4 3.6 3.4 2.6 3.2 3.  2.2 3.  3.4 4.  3.4 2.6 3.  2.4 3.4 4.2 3.4 2.6\n",
      " 3.8 3.6 2.4 3.  2.6 3.6 3.2 3.4 2.2 3.2 2.4 2.6 3.8 2.8 1.6 2.6 2.2 3.2\n",
      " 2.4 3.8 3.8 2.4 2.6 3.4 2.4 2.4 2.6 4.2 3.4 2.2 3.  2.4 2.8 3.  3.4 3.6\n",
      " 1.8 3.4 3.2 3.6 3.2 2.6 3.  3.6 3.4 2.4 3.  2.4 3.2 1.8 1.8 2.6 2.4 3.6\n",
      " 3.4 3.4 3.8 3.  3.  2.6 2.2 2.6 3.4 2.8 2.6 4.2 4.  3.  2.8 3.8 2.6 2.4\n",
      " 3.4 2.8 3.4 2.4 2.6 3.  3.  2.  3.6 3.4 3.6 3.  2.4 2.8 3.4 2.  2.6 2.2\n",
      " 4.  2.8 3.2 2.  2.8 3.2 3.  2.6 3.4 2.8 3.2 2.6 3.8 3.2 2.6 2.  2.2 3.\n",
      " 2.6 2.8 2.8 3.2 3.6 4.2 2.2 3.  3.  3.2 3.8 2.4 3.6 2.4 3.  3.  3.4 3.\n",
      " 3.  3.4 3.2 3.4 2.6 2.8 3.2 4.4 2.2 2.8 3.  2.8 4.2 3.  2.4 3.2 4.  3.6\n",
      " 4.2 2.4 3.  2.8 3.4 3.2 2.8 1.6 2.8 2.4 2.6 2.6 3.2 3.2 1.6 3.6 3.  3.\n",
      " 2.8 1.8 2.8 2.8 4.2 2.8 3.8 2.8 2.8 2.8 2.8 3.4 4.2 3.4 2.6 2.6 3.6 3.\n",
      " 3.6 3.4 2.4 3.  2.4 2.8 3.6 2.  3.2 2.6 3.2 2.  3.2 3.  2.6 3.6 2.2 3.4\n",
      " 3.4 2.4 2.6 2.4 3.4 3.2 2.6 4.  2.6 2.2 3.2 2.8 3.4 3.4 3.4 3.2 3.  2.2\n",
      " 3.8 3.2 2.6 2.6 3.2 2.8 2.6 2.2 4.  2.6 4.  3.2 3.2 3.6 3.  3.4 3.2 3.2\n",
      " 4.2 2.4 2.6 3.  3.  3.  3.6 2.8 3.  3.6 2.8 2.6 2.6 3.2 3.8 3.8 2.6 2.6\n",
      " 2.8 3.4 3.2 2.  3.6 2.8 2.8 3.  2.6 1.8 2.6 3.6 2.8 2.4 3.  3.  2.8 2.4\n",
      " 2.2 4.2 2.4 2.6 3.6 3.8 3.8 1.8 3.6 2.  3.4 2.8 2.6 2.8 2.  2.4 2.  2.2\n",
      " 3.2 3.6 3.6 3.  3.2 3.8 2.6 3.6 2.6 3.  3.2 2.  1.8 3.6 3.6 2.8 3.6 3.2\n",
      " 3.  2.6 3.2 2.2 2.8 3.6 3.  3.6 3.8 1.6 2.4 2.  2.4 2.  3.2 3.6 3.4 2.4\n",
      " 3.2 2.2 2.8 3.8 4.  4.2 2.6 3.2 3.  3.2 2.2 2.8 3.8 3.  3.6 2.8 2.2 1.8\n",
      " 2.  2.6 3.8 3.  2.4 3.  2.  2.6 3.2 2.2 3.4 2.6 3.8 2.4 3.8 3.  3.6 3.\n",
      " 2.8 2.6 3.  2.6 2.2 2.8 4.4 3.2 2.6 3.8 3.2 3.  4.4 4.  4.  3.  3.  2.2\n",
      " 2.6 2.  4.  1.8 2.4 3.2 2.8 2.6 1.6 2.6 2.8 2.  3.8 2.  2.4 3.8 2.4 2.\n",
      " 3.  3.8 3.2 2.2 3.2 3.4 3.  3.4 3.6 3.2 3.2 2.6 2.2 3.  2.6 3.2 3.8 3.\n",
      " 3.4 3.2 3.4 2.2 3.2 3.4 4.  3.  1.8 3.8 2.  3.4 2.8 2.2 2.8 3.8 4.2 3.\n",
      " 2.6 4.4 2.8 2.  2.  2.  3.6 2.8 3.  3.4 2.6 3.2 2.4 1.8 3.2 3.  3.6 1.8\n",
      " 4.  2.4 3.  2.4 4.2 2.2 4.  4.2 2.4 2.8 3.8 3.6 1.4 3.  3.2 2.6 2.  3.\n",
      " 4.4 2.6 2.  2.4 1.8 3.4 3.2 1.8 3.2 3.6 4.2 3.4 2.8 3.8 2.8 3.2 3.8 2.2\n",
      " 3.4 3.8 2.6 2.8 2.8 2.2 3.4 2.6 4.  2.4 3.4 2.  3.4 3.6 2.8 2.6 2.2 2.4\n",
      " 3.4 2.6 2.4 1.8 3.  3.  4.  3.2 2.2 2.2 3.  3.2 4.6 3.  2.6 3.4 3.  4.2\n",
      " 2.6 3.2 3.6 2.6 3.  2.6 2.8 2.4 2.8 3.6 4.2 3.2 3.2 2.4 4.4 2.  2.4 2.2\n",
      " 2.8 2.8 3.  3.4 2.4 3.2 1.6 3.6 3.  3.6 2.4 2.8 4.  2.8 3.2 3.4 3.  2.6\n",
      " 2.2 3.2 2.2 2.2 3.4 3.2 4.2 2.4 2.6 3.4 2.6 4.  2.4 3.4 2.2 4.8 3.6 2.\n",
      " 2.4 2.  3.4 2.4 2.2 3.6 1.6 3.4 3.2 3. ]\n"
     ]
    }
   ],
   "source": [
    "import numpy as np\n",
    "# 주어진 샘플 데이터\n",
    "sample_data = np.array([1, 2, 3, 4, 5])\n",
    "# 부트스트랩 샘플링\n",
    "num_bootstrap_samples = 1000\n",
    "bootstrap_samples = np.random.choice(sample_data,(num_bootstrap_samples, len(sample_data)), replace=True)\n",
    "# 부트스트랩 평균 계산\n",
    "bootstrap_means = np.mean(bootstrap_samples, axis=1)\n",
    "# 95% 신뢰 구간 계산\n",
    "confidence_interval = np.percentile(bootstrap_means, [2.5, 97.5])\n",
    "# print(\"95% 신뢰 구간:\", confidence_interval)\n",
    "\n"
   ]
  },
  {
   "cell_type": "code",
   "execution_count": 4,
   "metadata": {},
   "outputs": [
    {
     "data": {
      "text/html": [
       "<div>\n",
       "<style scoped>\n",
       "    .dataframe tbody tr th:only-of-type {\n",
       "        vertical-align: middle;\n",
       "    }\n",
       "\n",
       "    .dataframe tbody tr th {\n",
       "        vertical-align: top;\n",
       "    }\n",
       "\n",
       "    .dataframe thead th {\n",
       "        text-align: right;\n",
       "    }\n",
       "</style>\n",
       "<table border=\"1\" class=\"dataframe\">\n",
       "  <thead>\n",
       "    <tr style=\"text-align: right;\">\n",
       "      <th></th>\n",
       "      <th>var1</th>\n",
       "      <th>var2</th>\n",
       "      <th>var3</th>\n",
       "    </tr>\n",
       "  </thead>\n",
       "  <tbody>\n",
       "    <tr>\n",
       "      <th>0</th>\n",
       "      <td>25</td>\n",
       "      <td>5</td>\n",
       "      <td>11</td>\n",
       "    </tr>\n",
       "    <tr>\n",
       "      <th>1</th>\n",
       "      <td>12</td>\n",
       "      <td>7</td>\n",
       "      <td>8</td>\n",
       "    </tr>\n",
       "    <tr>\n",
       "      <th>2</th>\n",
       "      <td>15</td>\n",
       "      <td>7</td>\n",
       "      <td>10</td>\n",
       "    </tr>\n",
       "    <tr>\n",
       "      <th>3</th>\n",
       "      <td>14</td>\n",
       "      <td>9</td>\n",
       "      <td>6</td>\n",
       "    </tr>\n",
       "    <tr>\n",
       "      <th>4</th>\n",
       "      <td>19</td>\n",
       "      <td>12</td>\n",
       "      <td>6</td>\n",
       "    </tr>\n",
       "    <tr>\n",
       "      <th>5</th>\n",
       "      <td>23</td>\n",
       "      <td>9</td>\n",
       "      <td>5</td>\n",
       "    </tr>\n",
       "    <tr>\n",
       "      <th>6</th>\n",
       "      <td>25</td>\n",
       "      <td>9</td>\n",
       "      <td>9</td>\n",
       "    </tr>\n",
       "    <tr>\n",
       "      <th>7</th>\n",
       "      <td>29</td>\n",
       "      <td>4</td>\n",
       "      <td>12</td>\n",
       "    </tr>\n",
       "    <tr>\n",
       "      <th>8</th>\n",
       "      <td>33</td>\n",
       "      <td>14</td>\n",
       "      <td>13</td>\n",
       "    </tr>\n",
       "    <tr>\n",
       "      <th>9</th>\n",
       "      <td>35</td>\n",
       "      <td>15</td>\n",
       "      <td>16</td>\n",
       "    </tr>\n",
       "  </tbody>\n",
       "</table>\n",
       "</div>"
      ],
      "text/plain": [
       "   var1  var2  var3\n",
       "0    25     5    11\n",
       "1    12     7     8\n",
       "2    15     7    10\n",
       "3    14     9     6\n",
       "4    19    12     6\n",
       "5    23     9     5\n",
       "6    25     9     9\n",
       "7    29     4    12\n",
       "8    33    14    13\n",
       "9    35    15    16"
      ]
     },
     "execution_count": 4,
     "metadata": {},
     "output_type": "execute_result"
    }
   ],
   "source": [
    "import numpy as np \n",
    "import pandas as pd\n",
    " \n",
    "#create DataFrame \n",
    "df = pd.DataFrame({'var1': [25, 12, 15, 14, 19, 23, 25, 29, 33, 35], \n",
    "                    'var2': [5, 7, 7, 9, 12, 9, 9, 4, 14, 15],\n",
    "                    'var3': [11, 8, 10, 6, 6, 5, 9, 12, 13, 16]}) \n",
    "\n",
    "df\n"
   ]
  },
  {
   "cell_type": "code",
   "execution_count": 16,
   "metadata": {},
   "outputs": [
    {
     "name": "stdout",
     "output_type": "stream",
     "text": [
      "3.5\n"
     ]
    },
    {
     "data": {
      "text/plain": [
       "[<matplotlib.lines.Line2D at 0x7f4a8b703eb0>]"
      ]
     },
     "execution_count": 16,
     "metadata": {},
     "output_type": "execute_result"
    },
    {
     "data": {
      "image/png": "[encoded data removed]",
      "text/plain": [
       "<Figure size 640x480 with 1 Axes>"
      ]
     },
     "metadata": {},
     "output_type": "display_data"
    }
   ],
   "source": [
    "import numpy as np\n",
    "import pandas as pd\n",
    "import matplotlib.pyplot as plt\n",
    "\n",
    "a=np.arange(1,11)\n",
    "a=np.append(a,7.5)\n",
    "c=[]\n",
    "\n",
    "for i in range(101):\n",
    "    b=np.percentile(a,i,interpolation='linear')\n",
    "    c.append(b)\n",
    "\n",
    "print(np.percentile(a,25,interpolation='linear'))\n",
    "plt.plot(c)\n",
    "\n",
    "\n"
   ]
  }
 ],
 "metadata": {
  "kernelspec": {
   "display_name": "Python 3",
   "language": "python",
   "name": "python3"
  },
  "language_info": {
   "codemirror_mode": {
    "name": "ipython",
    "version": 3
   },
   "file_extension": ".py",
   "mimetype": "text/x-python",
   "name": "python",
   "nbconvert_exporter": "python",
   "pygments_lexer": "ipython3",
   "version": "3.10.12"
  }
 },
 "nbformat": 4,
 "nbformat_minor": 2
}
