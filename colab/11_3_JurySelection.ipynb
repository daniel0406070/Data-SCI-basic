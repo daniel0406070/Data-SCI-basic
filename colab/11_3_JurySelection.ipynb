{
  "nbformat": 4,
  "nbformat_minor": 0,
  "metadata": {
    "colab": {
      "provenance": [],
      "include_colab_link": true
    },
    "kernelspec": {
      "name": "python3",
      "display_name": "Python 3"
    },
    "language_info": {
      "name": "python"
    }
  },
  "cells": [
    {
      "cell_type": "markdown",
      "metadata": {
        "id": "view-in-github",
        "colab_type": "text"
      },
      "source": [
        "<a href=\"https://colab.research.google.com/github/daniel0406070/Data-SCI-basic/blob/master/JurySelection.ipynb\" target=\"_parent\"><img src=\"https://colab.research.google.com/assets/colab-badge.svg\" alt=\"Open In Colab\"/></a>"
      ]
    },
    {
      "cell_type": "code",
      "execution_count": null,
      "metadata": {
        "id": "m5teD8rueUVi"
      },
      "outputs": [],
      "source": [
        "from datascience import *\n",
        "import numpy as np\n",
        "\n",
        "%matplotlib inline\n",
        "import matplotlib.pyplot as plots\n",
        "plots.style.use('fivethirtyeight')\n",
        "\n",
        "# 랜덤 넘버 제너레이터 시작~~\n",
        "#np.random.seed(3)\n"
      ]
    },
    {
      "cell_type": "code",
      "source": [
        "jury = Table().with_columns(\n",
        "'Ethnicity', make_array('Asian', 'Black', 'Latino', 'White', 'Other'),\n",
        "'Eligible', make_array(0.15, 0.18, 0.12, 0.54, 0.01),\n",
        "'Panels', make_array(0.26, 0.08, 0.08, 0.54, 0.04)\n",
        ")\n",
        "jury"
      ],
      "metadata": {
        "colab": {
          "base_uri": "https://localhost:8080/",
          "height": 206
        },
        "id": "URNmQUCpWgno",
        "outputId": "f5316150-3f65-41d1-fb8c-70c8a6bd8dbc"
      },
      "execution_count": null,
      "outputs": [
        {
          "output_type": "execute_result",
          "data": {
            "text/plain": [
              "Ethnicity | Eligible | Panels\n",
              "Asian     | 0.15     | 0.26\n",
              "Black     | 0.18     | 0.08\n",
              "Latino    | 0.12     | 0.08\n",
              "White     | 0.54     | 0.54\n",
              "Other     | 0.01     | 0.04"
            ],
            "text/html": [
              "<table border=\"1\" class=\"dataframe\">\n",
              "    <thead>\n",
              "        <tr>\n",
              "            <th>Ethnicity</th> <th>Eligible</th> <th>Panels</th>\n",
              "        </tr>\n",
              "    </thead>\n",
              "    <tbody>\n",
              "        <tr>\n",
              "            <td>Asian    </td> <td>0.15    </td> <td>0.26  </td>\n",
              "        </tr>\n",
              "        <tr>\n",
              "            <td>Black    </td> <td>0.18    </td> <td>0.08  </td>\n",
              "        </tr>\n",
              "        <tr>\n",
              "            <td>Latino   </td> <td>0.12    </td> <td>0.08  </td>\n",
              "        </tr>\n",
              "        <tr>\n",
              "            <td>White    </td> <td>0.54    </td> <td>0.54  </td>\n",
              "        </tr>\n",
              "        <tr>\n",
              "            <td>Other    </td> <td>0.01    </td> <td>0.04  </td>\n",
              "        </tr>\n",
              "    </tbody>\n",
              "</table>"
            ]
          },
          "metadata": {},
          "execution_count": 2
        }
      ]
    },
    {
      "cell_type": "code",
      "source": [
        "jury.barh('Ethnicity')"
      ],
      "metadata": {
        "colab": {
          "base_uri": "https://localhost:8080/",
          "height": 384
        },
        "id": "9KFribrDWq1G",
        "outputId": "00998e74-bcad-4aba-e78c-cf8f90c97e32"
      },
      "execution_count": null,
      "outputs": [
        {
          "output_type": "display_data",
          "data": {
            "text/plain": [
              "<Figure size 600x400 with 1 Axes>"
            ],
            "image/png": "[encoded data removed]"
          },
          "metadata": {}
        }
      ]
    },
    {
      "cell_type": "code",
      "source": [
        "# Augment the table with a column of differences between proportions\n",
        "jury_with_diffs = jury.with_column(\n",
        "'Difference', jury.column('Panels') - jury.column('Eligible')\n",
        ")\n",
        "jury_with_diffs"
      ],
      "metadata": {
        "colab": {
          "base_uri": "https://localhost:8080/",
          "height": 206
        },
        "id": "hMjme0CSWvm-",
        "outputId": "9b8f7ad8-ae8d-46a0-ece6-e8aca676ab33"
      },
      "execution_count": null,
      "outputs": [
        {
          "output_type": "execute_result",
          "data": {
            "text/plain": [
              "Ethnicity | Eligible | Panels | Difference\n",
              "Asian     | 0.15     | 0.26   | 0.11\n",
              "Black     | 0.18     | 0.08   | -0.1\n",
              "Latino    | 0.12     | 0.08   | -0.04\n",
              "White     | 0.54     | 0.54   | 0\n",
              "Other     | 0.01     | 0.04   | 0.03"
            ],
            "text/html": [
              "<table border=\"1\" class=\"dataframe\">\n",
              "    <thead>\n",
              "        <tr>\n",
              "            <th>Ethnicity</th> <th>Eligible</th> <th>Panels</th> <th>Difference</th>\n",
              "        </tr>\n",
              "    </thead>\n",
              "    <tbody>\n",
              "        <tr>\n",
              "            <td>Asian    </td> <td>0.15    </td> <td>0.26  </td> <td>0.11      </td>\n",
              "        </tr>\n",
              "        <tr>\n",
              "            <td>Black    </td> <td>0.18    </td> <td>0.08  </td> <td>-0.1      </td>\n",
              "        </tr>\n",
              "        <tr>\n",
              "            <td>Latino   </td> <td>0.12    </td> <td>0.08  </td> <td>-0.04     </td>\n",
              "        </tr>\n",
              "        <tr>\n",
              "            <td>White    </td> <td>0.54    </td> <td>0.54  </td> <td>0         </td>\n",
              "        </tr>\n",
              "        <tr>\n",
              "            <td>Other    </td> <td>0.01    </td> <td>0.04  </td> <td>0.03      </td>\n",
              "        </tr>\n",
              "    </tbody>\n",
              "</table>"
            ]
          },
          "metadata": {},
          "execution_count": 4
        }
      ]
    },
    {
      "cell_type": "code",
      "source": [
        "jury_with_diffs = jury_with_diffs.with_column(\n",
        "'Abs. Difference',\n",
        "np.abs(jury_with_diffs.column('Difference'))\n",
        ")\n",
        "jury_with_diffs"
      ],
      "metadata": {
        "colab": {
          "base_uri": "https://localhost:8080/",
          "height": 206
        },
        "id": "tXcnIAr1W5ym",
        "outputId": "a7afb3ad-c3c0-41de-d1f0-ffbf85fce8e9"
      },
      "execution_count": null,
      "outputs": [
        {
          "output_type": "execute_result",
          "data": {
            "text/plain": [
              "Ethnicity | Eligible | Panels | Difference | Abs. Difference\n",
              "Asian     | 0.15     | 0.26   | 0.11       | 0.11\n",
              "Black     | 0.18     | 0.08   | -0.1       | 0.1\n",
              "Latino    | 0.12     | 0.08   | -0.04      | 0.04\n",
              "White     | 0.54     | 0.54   | 0          | 0\n",
              "Other     | 0.01     | 0.04   | 0.03       | 0.03"
            ],
            "text/html": [
              "<table border=\"1\" class=\"dataframe\">\n",
              "    <thead>\n",
              "        <tr>\n",
              "            <th>Ethnicity</th> <th>Eligible</th> <th>Panels</th> <th>Difference</th> <th>Abs. Difference</th>\n",
              "        </tr>\n",
              "    </thead>\n",
              "    <tbody>\n",
              "        <tr>\n",
              "            <td>Asian    </td> <td>0.15    </td> <td>0.26  </td> <td>0.11      </td> <td>0.11           </td>\n",
              "        </tr>\n",
              "        <tr>\n",
              "            <td>Black    </td> <td>0.18    </td> <td>0.08  </td> <td>-0.1      </td> <td>0.1            </td>\n",
              "        </tr>\n",
              "        <tr>\n",
              "            <td>Latino   </td> <td>0.12    </td> <td>0.08  </td> <td>-0.04     </td> <td>0.04           </td>\n",
              "        </tr>\n",
              "        <tr>\n",
              "            <td>White    </td> <td>0.54    </td> <td>0.54  </td> <td>0         </td> <td>0              </td>\n",
              "        </tr>\n",
              "        <tr>\n",
              "            <td>Other    </td> <td>0.01    </td> <td>0.04  </td> <td>0.03      </td> <td>0.03           </td>\n",
              "        </tr>\n",
              "    </tbody>\n",
              "</table>"
            ]
          },
          "metadata": {},
          "execution_count": 5
        }
      ]
    },
    {
      "cell_type": "code",
      "source": [
        "jury_with_diffs.column('Abs. Difference').sum()/2"
      ],
      "metadata": {
        "colab": {
          "base_uri": "https://localhost:8080/"
        },
        "id": "61xzTZtPXB2W",
        "outputId": "bcc6b5ab-02d1-4cfc-fc4b-090cc9e595cd"
      },
      "execution_count": null,
      "outputs": [
        {
          "output_type": "execute_result",
          "data": {
            "text/plain": [
              "0.14000000000000001"
            ]
          },
          "metadata": {},
          "execution_count": 6
        }
      ]
    },
    {
      "cell_type": "code",
      "source": [
        "def total_variation_distance(distribution_1, distribution_2):\n",
        "  return np.abs(distribution_1 - distribution_2).sum()/2"
      ],
      "metadata": {
        "id": "YpzdO8DwXE1g"
      },
      "execution_count": null,
      "outputs": []
    },
    {
      "cell_type": "code",
      "source": [
        "def table_tvd(table, label, other):\n",
        "  return total_variation_distance(table.column(label), table.column(other))\n",
        "\n",
        "table_tvd(jury, 'Eligible', 'Panels')"
      ],
      "metadata": {
        "colab": {
          "base_uri": "https://localhost:8080/"
        },
        "id": "SK18Kk8eXJrv",
        "outputId": "90ab8f25-5975-4c97-d104-e2a3af431fba"
      },
      "execution_count": null,
      "outputs": [
        {
          "output_type": "execute_result",
          "data": {
            "text/plain": [
              "0.14000000000000001"
            ]
          },
          "metadata": {},
          "execution_count": 8
        }
      ]
    },
    {
      "cell_type": "code",
      "source": [
        "panel_size = 1453\n",
        "#panels_and_sample = proportions_from_distribution(jury, 'Panels', panel_size)\n",
        "panels_and_sample = proportions_from_distribution(jury, 'Eligible', panel_size)\n",
        "\n",
        "panels_and_sample"
      ],
      "metadata": {
        "colab": {
          "base_uri": "https://localhost:8080/",
          "height": 206
        },
        "id": "_QXChoFmXTPH",
        "outputId": "053c8abd-bccd-4337-9db2-47868a967e0d"
      },
      "execution_count": null,
      "outputs": [
        {
          "output_type": "execute_result",
          "data": {
            "text/plain": [
              "Ethnicity | Eligible | Panels | Random Sample\n",
              "Asian     | 0.15     | 0.26   | 0.147281\n",
              "Black     | 0.18     | 0.08   | 0.181693\n",
              "Latino    | 0.12     | 0.08   | 0.12457\n",
              "White     | 0.54     | 0.54   | 0.534067\n",
              "Other     | 0.01     | 0.04   | 0.0123882"
            ],
            "text/html": [
              "<table border=\"1\" class=\"dataframe\">\n",
              "    <thead>\n",
              "        <tr>\n",
              "            <th>Ethnicity</th> <th>Eligible</th> <th>Panels</th> <th>Random Sample</th>\n",
              "        </tr>\n",
              "    </thead>\n",
              "    <tbody>\n",
              "        <tr>\n",
              "            <td>Asian    </td> <td>0.15    </td> <td>0.26  </td> <td>0.147281     </td>\n",
              "        </tr>\n",
              "        <tr>\n",
              "            <td>Black    </td> <td>0.18    </td> <td>0.08  </td> <td>0.181693     </td>\n",
              "        </tr>\n",
              "        <tr>\n",
              "            <td>Latino   </td> <td>0.12    </td> <td>0.08  </td> <td>0.12457      </td>\n",
              "        </tr>\n",
              "        <tr>\n",
              "            <td>White    </td> <td>0.54    </td> <td>0.54  </td> <td>0.534067     </td>\n",
              "        </tr>\n",
              "        <tr>\n",
              "            <td>Other    </td> <td>0.01    </td> <td>0.04  </td> <td>0.0123882    </td>\n",
              "        </tr>\n",
              "    </tbody>\n",
              "</table>"
            ]
          },
          "metadata": {},
          "execution_count": 18
        }
      ]
    },
    {
      "cell_type": "code",
      "source": [
        "panels_and_sample.barh('Ethnicity')"
      ],
      "metadata": {
        "colab": {
          "base_uri": "https://localhost:8080/",
          "height": 384
        },
        "id": "-kxrKQnoXafW",
        "outputId": "fc49bb4f-c0dc-4324-93d3-64dae9d373ac"
      },
      "execution_count": null,
      "outputs": [
        {
          "output_type": "display_data",
          "data": {
            "text/plain": [
              "<Figure size 600x400 with 1 Axes>"
            ],
            "image/png": "[encoded data removed]"
          },
          "metadata": {}
        }
      ]
    },
    {
      "cell_type": "code",
      "source": [
        "table_tvd(panels_and_sample, 'Eligible', 'Random Sample')"
      ],
      "metadata": {
        "colab": {
          "base_uri": "https://localhost:8080/"
        },
        "id": "f-Clj22wXeIP",
        "outputId": "ef1fdc9c-ba9d-4646-adfa-b9f4fb16de49"
      },
      "execution_count": null,
      "outputs": [
        {
          "output_type": "execute_result",
          "data": {
            "text/plain": [
              "0.0086510667584308292"
            ]
          },
          "metadata": {},
          "execution_count": 20
        }
      ]
    },
    {
      "cell_type": "code",
      "source": [
        "# Compute empirical distribution of TVDs\n",
        "panel_size = 1453\n",
        "repetitions = 5000\n",
        "tvds = make_array()\n",
        "for i in np.arange(repetitions):\n",
        "  new_sample = proportions_from_distribution(jury, 'Eligible', panel_size)\n",
        "  tvds = np.append(tvds, table_tvd(new_sample, 'Eligible', 'Random Sample'))\n",
        "\n",
        "results = Table().with_column('TVD', tvds)\n",
        "results"
      ],
      "metadata": {
        "colab": {
          "base_uri": "https://localhost:8080/",
          "height": 392
        },
        "id": "usgJOsNGXj12",
        "outputId": "e1c85fad-1c79-4e3e-802c-5a9cdd52c49d"
      },
      "execution_count": null,
      "outputs": [
        {
          "output_type": "execute_result",
          "data": {
            "text/plain": [
              "TVD\n",
              "0.0255334\n",
              "0.0183345\n",
              "0.0135513\n",
              "0.0131108\n",
              "0.00681349\n",
              "0.0158775\n",
              "0.0144666\n",
              "0.0255127\n",
              "0.0148039\n",
              "0.0191672\n",
              "... (4990 rows omitted)"
            ],
            "text/html": [
              "<table border=\"1\" class=\"dataframe\">\n",
              "    <thead>\n",
              "        <tr>\n",
              "            <th>TVD</th>\n",
              "        </tr>\n",
              "    </thead>\n",
              "    <tbody>\n",
              "        <tr>\n",
              "            <td>0.0255334 </td>\n",
              "        </tr>\n",
              "        <tr>\n",
              "            <td>0.0183345 </td>\n",
              "        </tr>\n",
              "        <tr>\n",
              "            <td>0.0135513 </td>\n",
              "        </tr>\n",
              "        <tr>\n",
              "            <td>0.0131108 </td>\n",
              "        </tr>\n",
              "        <tr>\n",
              "            <td>0.00681349</td>\n",
              "        </tr>\n",
              "        <tr>\n",
              "            <td>0.0158775 </td>\n",
              "        </tr>\n",
              "        <tr>\n",
              "            <td>0.0144666 </td>\n",
              "        </tr>\n",
              "        <tr>\n",
              "            <td>0.0255127 </td>\n",
              "        </tr>\n",
              "        <tr>\n",
              "            <td>0.0148039 </td>\n",
              "        </tr>\n",
              "        <tr>\n",
              "            <td>0.0191672 </td>\n",
              "        </tr>\n",
              "    </tbody>\n",
              "</table>\n",
              "<p>... (4990 rows omitted)</p>"
            ]
          },
          "metadata": {},
          "execution_count": 21
        }
      ]
    },
    {
      "cell_type": "code",
      "source": [
        "results.hist(bins=np.arange(0, 0.2, 0.005))"
      ],
      "metadata": {
        "colab": {
          "base_uri": "https://localhost:8080/",
          "height": 410
        },
        "id": "kx9B1v3_XvN-",
        "outputId": "a1ffcaf1-c8a2-4db3-8e88-8c136ba3eb0e"
      },
      "execution_count": null,
      "outputs": [
        {
          "output_type": "display_data",
          "data": {
            "text/plain": [
              "<Figure size 600x400 with 1 Axes>"
            ],
            "image/png": "[encoded data removed]"
          },
          "metadata": {}
        }
      ]
    }
  ]
}