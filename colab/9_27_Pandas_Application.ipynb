{
  "cells": [
    {
      "cell_type": "markdown",
      "metadata": {
        "colab_type": "text",
        "id": "view-in-github"
      },
      "source": [
        "<a href=\"https://colab.research.google.com/github/daniel0406070/Data-SCI-basic/blob/master/9_27_Pandas_Application.ipynb\" target=\"_parent\"><img src=\"https://colab.research.google.com/assets/colab-badge.svg\" alt=\"Open In Colab\"/></a>"
      ]
    },
    {
      "cell_type": "markdown",
      "metadata": {
        "id": "Siz51OxuV4d8"
      },
      "source": [
        "## Pandas의 활용\n"
      ]
    },
    {
      "cell_type": "markdown",
      "metadata": {
        "id": "a6yNz5AwV9xy"
      },
      "source": [
        "**데이터 프레임의 마스킹**"
      ]
    },
    {
      "cell_type": "code",
      "execution_count": 5,
      "metadata": {
        "colab": {
          "base_uri": "https://localhost:8080/"
        },
        "id": "DmHoUZqzxbvm",
        "outputId": "bd1596b4-3e83-43ce-cc99-3047ccd5713f"
      },
      "outputs": [
        {
          "name": "stdout",
          "output_type": "stream",
          "text": [
            "[[2 3 4]\n",
            " [1 2 4]]\n"
          ]
        }
      ],
      "source": [
        "import numpy as np\n",
        "\n",
        "c = np.random.randint(1, 5, size=(2, 3))\n",
        "print(c)"
      ]
    },
    {
      "cell_type": "code",
      "execution_count": 47,
      "metadata": {
        "colab": {
          "base_uri": "https://localhost:8080/"
        },
        "id": "JmS4kFl4V4vq",
        "outputId": "95d4f00c-f95a-4dcf-8430-27268ed04ff1"
      },
      "outputs": [
        {
          "name": "stdout",
          "output_type": "stream",
          "text": [
            "   A  B\n",
            "0  3  8\n",
            "1  2  6\n",
            "0    True\n",
            "1    True\n",
            "Name: A, dtype: bool\n",
            "   A  B\n",
            "0  3  8\n",
            "1  2  6\n",
            "----------------------\n",
            "   A  B\n",
            "0  3  8\n",
            "1  2  6\n"
          ]
        }
      ],
      "source": [
        "import numpy as np\n",
        "import pandas as pd\n",
        "\n",
        "df = pd.DataFrame(np.random.randint(1, 10, (2, 2)), index=[0, 1], columns=[\"A\", \"B\"])\n",
        "# 데이터 프레임 출력하기\n",
        "print(df)\n",
        "# 컬럼 A의 각 원소가 5보다 작거나 같은지 출력\n",
        "print(df[\"A\"] <= 5)\n",
        "# 컬럼 A의 원소가 5보다 작고, 컬럼 B의 원소가 8보다 작은 행 추출\n",
        "print(df.query(\"A <= 5 and B <= 8\"))\n",
        "print('----------------------')\n",
        "print(df.query(\"A <= 9 and B <= 2\"))"
      ]
    },
    {
      "cell_type": "markdown",
      "metadata": {
        "id": "AzDJfh-GaFMM"
      },
      "source": [
        "**데이터 프레임의 개별 연산 ①**"
      ]
    },
    {
      "cell_type": "code",
      "execution_count": 50,
      "metadata": {
        "colab": {
          "base_uri": "https://localhost:8080/"
        },
        "id": "F84X4ZN5aFTj",
        "outputId": "79bae108-cf8d-4b1a-e53b-982597eced92"
      },
      "outputs": [
        {
          "name": "stdout",
          "output_type": "stream",
          "text": [
            "   A  B  C  D\n",
            "0  1  2  3  4\n",
            "1  1  2  3  4\n",
            "----------------\n",
            "   A  B  C  D\n",
            "0  2  3  4  5\n",
            "1  2  3  4  5\n",
            "----------------\n",
            "   A  B  C  D\n",
            "0  3  4  5  6\n",
            "1  3  4  5  6\n"
          ]
        }
      ],
      "source": [
        "import pandas as pd\n",
        "\n",
        "df = pd.DataFrame([[1, 2, 3, 4], [1, 2, 3, 4]], index=[0, 1], columns=[\"A\", \"B\", \"C\", \"D\"])\n",
        "print(df)\n",
        "print('----------------')\n",
        "df = df.apply(lambda x: x + 1)\n",
        "print(df)\n",
        "print('----------------')\n",
        "\n",
        "def addOne(x):\n",
        "  return x + 1\n",
        "\n",
        "df = df.apply(addOne)\n",
        "print(df)"
      ]
    },
    {
      "cell_type": "markdown",
      "metadata": {
        "id": "tUnEKp3rWISR"
      },
      "source": [
        "**데이터 프레임의 개별 연산 ②**"
      ]
    },
    {
      "cell_type": "code",
      "execution_count": 51,
      "metadata": {
        "colab": {
          "base_uri": "https://localhost:8080/"
        },
        "id": "5rU-cJcMWHHW",
        "outputId": "d2dae86d-1848-44b2-b47f-4b28b1feb454"
      },
      "outputs": [
        {
          "name": "stdout",
          "output_type": "stream",
          "text": [
            "        A       B       C       D\n",
            "0   Apple   Apple  Carrot  Banana\n",
            "1  Durian  Banana   Apple  Carrot\n",
            "         A        B        C       D\n",
            "0  Airport  Airport   Carrot  Banana\n",
            "1   Durian   Banana  Airport  Carrot\n"
          ]
        }
      ],
      "source": [
        "import pandas as pd\n",
        "\n",
        "df = pd.DataFrame([\n",
        "  ['Apple', 'Apple', 'Carrot', 'Banana'],\n",
        "  ['Durian', 'Banana', 'Apple', 'Carrot']],\n",
        "  index=[0, 1],\n",
        "  columns=[\"A\", \"B\", \"C\", \"D\"])\n",
        "\n",
        "print(df)\n",
        "df = df.replace({\"Apple\": \"Airport\"})\n",
        "print(df)"
      ]
    },
    {
      "cell_type": "markdown",
      "metadata": {
        "id": "Si54bY9DWiCL"
      },
      "source": [
        "**데이터 프레임의 그룹화 ①**"
      ]
    },
    {
      "cell_type": "code",
      "execution_count": 54,
      "metadata": {
        "colab": {
          "base_uri": "https://localhost:8080/"
        },
        "id": "X_5G6gbRWabq",
        "outputId": "c0f25778-4217-4aed-ba6a-6af244c10785"
      },
      "outputs": [
        {
          "name": "stdout",
          "output_type": "stream",
          "text": [
            "     Name  Frequency   Type\n",
            "0   Apple          7  Fruit\n",
            "1  Banana          3  Fruit\n",
            "2    Beef          5   Meal\n",
            "3  Kimchi          4   Meal\n",
            "              Name  Frequency\n",
            "Type                         \n",
            "Fruit  AppleBanana         10\n",
            "Meal    BeefKimchi          9\n"
          ]
        }
      ],
      "source": [
        "import pandas as pd\n",
        "\n",
        "df = pd.DataFrame([\n",
        "  ['Apple', 7, 'Fruit'],\n",
        "  ['Banana', 3, 'Fruit'],\n",
        "  ['Beef', 5, 'Meal'],\n",
        "  ['Kimchi', 4, 'Meal']],\n",
        "  columns=[\"Name\", \"Frequency\", \"Type\"])\n",
        "\n",
        "print(df)\n",
        "print(df.groupby(['Type']).sum())"
      ]
    },
    {
      "cell_type": "markdown",
      "metadata": {
        "id": "e05shubVXAFi"
      },
      "source": [
        "**데이터 프레임의 그룹화 ②**"
      ]
    },
    {
      "cell_type": "code",
      "execution_count": 64,
      "metadata": {
        "colab": {
          "base_uri": "https://localhost:8080/"
        },
        "id": "tK8xeFvFWrh5",
        "outputId": "0d23a61d-3c94-42b0-ffd2-81406964a9d4"
      },
      "outputs": [
        {
          "name": "stdout",
          "output_type": "stream",
          "text": [
            "     Name  Frequency  Importance   Type\n",
            "0   Apple          7           5  Fruit\n",
            "1  Banana          3           6  Fruit\n",
            "2    Beef          5           2   Meal\n",
            "3  Kimchi          4           8   Meal\n",
            "        Name         Frequency     Importance    \n",
            "         min     max       min max        min max\n",
            "Type                                             \n",
            "Fruit  Apple  Banana         3   7          5   6\n",
            "Meal    Beef  Kimchi         4   5          2   8\n"
          ]
        }
      ],
      "source": [
        "import numpy as np\n",
        "import pandas as pd\n",
        "\n",
        "df = pd.DataFrame([\n",
        "  ['Apple', 7, 5, 'Fruit'],\n",
        "  ['Banana', 3, 6, 'Fruit'],\n",
        "  ['Beef', 5, 2, 'Meal'],\n",
        "  ['Kimchi', 4, 8, 'Meal']],\n",
        "  columns=[\"Name\", \"Frequency\", \"Importance\", \"Type\"])\n",
        "\n",
        "print(df)\n",
        "print(df.groupby([\"Type\"]).aggregate([min,max]))"
      ]
    },
    {
      "cell_type": "markdown",
      "metadata": {
        "id": "KM1IGVLkXfeT"
      },
      "source": [
        "**데이터 프레임의 그룹화 ③**"
      ]
    },
    {
      "cell_type": "code",
      "execution_count": 76,
      "metadata": {
        "colab": {
          "base_uri": "https://localhost:8080/"
        },
        "id": "-X9CQdRtXKbi",
        "outputId": "3ba2a3b5-54e9-4dd2-b282-beb449339cf4"
      },
      "outputs": [
        {
          "name": "stdout",
          "output_type": "stream",
          "text": [
            "     Name  Frequency  Importance   Type\n",
            "0   Apple          7           5  Fruit\n",
            "1  Banana          3           6  Fruit\n",
            "2    Beef          5           2   Meal\n",
            "3  Kimchi          4           8   Meal\n",
            "     Name  Frequency  Importance   Type\n",
            "0   Apple          7           5  Fruit\n",
            "1  Banana          3           6  Fruit\n"
          ]
        }
      ],
      "source": [
        "import pandas as pd\n",
        "\n",
        "df = pd.DataFrame([\n",
        "  ['Apple', 7, 5, 'Fruit'],\n",
        "  ['Banana', 3, 6, 'Fruit'],\n",
        "  ['Beef', 5, 2, 'Meal'],\n",
        "  ['Kimchi', 4, 8, 'Meal']],\n",
        "  columns=[\"Name\", \"Frequency\", \"Importance\", \"Type\"])\n",
        "\n",
        "\n",
        "def my_filter(data):\n",
        "  return data[\"Frequency\"].mean() >= 5\n",
        "\n",
        "\n",
        "print(df)\n",
        "df = df.groupby(\"Type\").filter(my_filter)\n",
        "print(df)"
      ]
    },
    {
      "cell_type": "markdown",
      "metadata": {
        "id": "u7MF95UNYLXK"
      },
      "source": [
        "**데이터 프레임의 그룹화 ④**"
      ]
    },
    {
      "cell_type": "code",
      "execution_count": 77,
      "metadata": {
        "colab": {
          "base_uri": "https://localhost:8080/"
        },
        "id": "CoBR2GKrXv2f",
        "outputId": "bfd5ecff-8ae6-4a9e-f286-5fd586d82784"
      },
      "outputs": [
        {
          "name": "stdout",
          "output_type": "stream",
          "text": [
            "     Name  Frequency  Importance   Type\n",
            "0   Apple          7           5  Fruit\n",
            "1  Banana          3           6  Fruit\n"
          ]
        }
      ],
      "source": [
        "import pandas as pd\n",
        "\n",
        "df = pd.DataFrame([\n",
        "  ['Apple', 7, 5, 'Fruit'],\n",
        "  ['Banana', 3, 6, 'Fruit'],\n",
        "  ['Beef', 5, 2, 'Meal'],\n",
        "  ['Kimchi', 4, 8, 'Meal']],\n",
        "  columns=[\"Name\", \"Frequency\", \"Importance\", \"Type\"])\n",
        "\n",
        "df = df.groupby(\"Type\").get_group(\"Fruit\")\n",
        "print(df)"
      ]
    },
    {
      "cell_type": "markdown",
      "metadata": {
        "id": "js9z060RYnXG"
      },
      "source": [
        "**데이터 프레임의 그룹화 ⑤**"
      ]
    },
    {
      "cell_type": "code",
      "execution_count": null,
      "metadata": {},
      "outputs": [],
      "source": []
    },
    {
      "cell_type": "code",
      "execution_count": 125,
      "metadata": {
        "colab": {
          "base_uri": "https://localhost:8080/"
        },
        "id": "1WbTCOHcYSVX",
        "outputId": "3bef8592-4297-4144-c97b-0efcd245e889"
      },
      "outputs": [
        {
          "ename": "TypeError",
          "evalue": "'DataFrameGroupBy' object does not support item assignment",
          "output_type": "error",
          "traceback": [
            "\u001b[0;31m---------------------------------------------------------------------------\u001b[0m",
            "\u001b[0;31mTypeError\u001b[0m                                 Traceback (most recent call last)",
            "\u001b[1;32m/home/daniel/code_space/Data-SCI-basic/colab/9_27_Pandas_Application.ipynb 셀 20\u001b[0m line \u001b[0;36m1\n\u001b[1;32m      <a href='vscode-notebook-cell://wsl%2Bubuntu-20.04/home/daniel/code_space/Data-SCI-basic/colab/9_27_Pandas_Application.ipynb#X24sdnNjb2RlLXJlbW90ZQ%3D%3D?line=2'>3</a>\u001b[0m df \u001b[39m=\u001b[39m pd\u001b[39m.\u001b[39mDataFrame([\n\u001b[1;32m      <a href='vscode-notebook-cell://wsl%2Bubuntu-20.04/home/daniel/code_space/Data-SCI-basic/colab/9_27_Pandas_Application.ipynb#X24sdnNjb2RlLXJlbW90ZQ%3D%3D?line=3'>4</a>\u001b[0m   [\u001b[39m'\u001b[39m\u001b[39mApple\u001b[39m\u001b[39m'\u001b[39m, \u001b[39m7\u001b[39m, \u001b[39m5\u001b[39m, \u001b[39m'\u001b[39m\u001b[39mFruit\u001b[39m\u001b[39m'\u001b[39m],\n\u001b[1;32m      <a href='vscode-notebook-cell://wsl%2Bubuntu-20.04/home/daniel/code_space/Data-SCI-basic/colab/9_27_Pandas_Application.ipynb#X24sdnNjb2RlLXJlbW90ZQ%3D%3D?line=4'>5</a>\u001b[0m   [\u001b[39m'\u001b[39m\u001b[39mBanana\u001b[39m\u001b[39m'\u001b[39m, \u001b[39m3\u001b[39m, \u001b[39m6\u001b[39m, \u001b[39m'\u001b[39m\u001b[39mFruit\u001b[39m\u001b[39m'\u001b[39m],\n\u001b[0;32m   (...)\u001b[0m\n\u001b[1;32m      <a href='vscode-notebook-cell://wsl%2Bubuntu-20.04/home/daniel/code_space/Data-SCI-basic/colab/9_27_Pandas_Application.ipynb#X24sdnNjb2RlLXJlbW90ZQ%3D%3D?line=7'>8</a>\u001b[0m   columns\u001b[39m=\u001b[39m[\u001b[39m\"\u001b[39m\u001b[39mName\u001b[39m\u001b[39m\"\u001b[39m, \u001b[39m\"\u001b[39m\u001b[39mFrequency\u001b[39m\u001b[39m\"\u001b[39m, \u001b[39m\"\u001b[39m\u001b[39mImportance\u001b[39m\u001b[39m\"\u001b[39m, \u001b[39m\"\u001b[39m\u001b[39mType\u001b[39m\u001b[39m\"\u001b[39m],\n\u001b[1;32m      <a href='vscode-notebook-cell://wsl%2Bubuntu-20.04/home/daniel/code_space/Data-SCI-basic/colab/9_27_Pandas_Application.ipynb#X24sdnNjb2RlLXJlbW90ZQ%3D%3D?line=8'>9</a>\u001b[0m   index\u001b[39m=\u001b[39m[\u001b[39m\"\u001b[39m\u001b[39mA\u001b[39m\u001b[39m\"\u001b[39m, \u001b[39m\"\u001b[39m\u001b[39mB\u001b[39m\u001b[39m\"\u001b[39m, \u001b[39m\"\u001b[39m\u001b[39mC\u001b[39m\u001b[39m\"\u001b[39m, \u001b[39m\"\u001b[39m\u001b[39mD\u001b[39m\u001b[39m\"\u001b[39m])\n\u001b[1;32m     <a href='vscode-notebook-cell://wsl%2Bubuntu-20.04/home/daniel/code_space/Data-SCI-basic/colab/9_27_Pandas_Application.ipynb#X24sdnNjb2RlLXJlbW90ZQ%3D%3D?line=9'>10</a>\u001b[0m df\u001b[39m=\u001b[39mdf\u001b[39m.\u001b[39mgroupby(\u001b[39m\"\u001b[39m\u001b[39mType\u001b[39m\u001b[39m\"\u001b[39m)\n\u001b[0;32m---> <a href='vscode-notebook-cell://wsl%2Bubuntu-20.04/home/daniel/code_space/Data-SCI-basic/colab/9_27_Pandas_Application.ipynb#X24sdnNjb2RlLXJlbW90ZQ%3D%3D?line=10'>11</a>\u001b[0m df[\u001b[39m\"\u001b[39;49m\u001b[39mas\u001b[39;49m\u001b[39m\"\u001b[39;49m]\u001b[39m=\u001b[39mdf[\u001b[39m\"\u001b[39m\u001b[39mFrequency\u001b[39m\u001b[39m\"\u001b[39m]\u001b[39m.\u001b[39mapply(\u001b[39mlambda\u001b[39;00m x: x\u001b[39m-\u001b[39mx\u001b[39m.\u001b[39mmean())\n\u001b[1;32m     <a href='vscode-notebook-cell://wsl%2Bubuntu-20.04/home/daniel/code_space/Data-SCI-basic/colab/9_27_Pandas_Application.ipynb#X24sdnNjb2RlLXJlbW90ZQ%3D%3D?line=12'>13</a>\u001b[0m \u001b[39mprint\u001b[39m(df)\n",
            "\u001b[0;31mTypeError\u001b[0m: 'DataFrameGroupBy' object does not support item assignment"
          ]
        }
      ],
      "source": [
        "import pandas as pd\n",
        "\n",
        "df = pd.DataFrame([\n",
        "  ['Apple', 7, 5, 'Fruit'],\n",
        "  ['Banana', 3, 6, 'Fruit'],\n",
        "  ['Beef', 5, 2, 'Meal'],\n",
        "  ['Kimchi', 4, 8, 'Meal']],\n",
        "  columns=[\"Name\", \"Frequency\", \"Importance\", \"Type\"],\n",
        "  index=[\"A\", \"B\", \"C\", \"D\"])\n",
        "df[\"as\"]=df.groupby(\"Type\")[\"Frequency\"].apply(lambda x: x-x.mean())\n",
        "\n",
        "print(df)"
      ]
    },
    {
      "cell_type": "markdown",
      "metadata": {
        "id": "kZA_fuA_ZD2r"
      },
      "source": [
        "**데이터 프레임의 다중화**"
      ]
    },
    {
      "cell_type": "code",
      "execution_count": 1,
      "metadata": {
        "colab": {
          "base_uri": "https://localhost:8080/"
        },
        "id": "9Rr1E0YIYwv2",
        "outputId": "86b9446b-ddcc-4bc8-d784-bef95ffad570"
      },
      "outputs": [
        {
          "name": "stdout",
          "output_type": "stream",
          "text": [
            "       1회  2회  3회  4회\n",
            "1차 공격   2   9   1   6\n",
            "   수비   3   9   3   7\n",
            "2차 공격   2   7   4   3\n",
            "   수비   7   3   7   6\n",
            "    1회  2회\n",
            "공격   2   7\n",
            "수비   7   3\n"
          ]
        }
      ],
      "source": [
        "import numpy as np\n",
        "import pandas as pd\n",
        "\n",
        "df = pd.DataFrame(\n",
        "  np.random.randint(1, 10, (4, 4)),\n",
        "  index=[['1차', '1차', '2차', '2차'], ['공격', '수비', '공격', '수비']],\n",
        "  columns=['1회', '2회', '3회', '4회']\n",
        ")\n",
        "\n",
        "print(df)\n",
        "print(df[[\"1회\", \"2회\"]].loc[\"2차\"])"
      ]
    },
    {
      "cell_type": "markdown",
      "metadata": {
        "id": "C2ApJAuvZWrM"
      },
      "source": [
        "**피벗 테이블의 기초**"
      ]
    },
    {
      "cell_type": "markdown",
      "metadata": {
        "id": "HWmoJxU71aUZ"
      },
      "source": [
        "\n",
        "\n",
        "---\n",
        "\n"
      ]
    },
    {
      "cell_type": "code",
      "execution_count": 7,
      "metadata": {
        "colab": {
          "base_uri": "https://localhost:8080/",
          "height": 206
        },
        "id": "Q48WYjEb1Tce",
        "outputId": "26a847ce-3487-4437-fdee-d14711840bf3"
      },
      "outputs": [
        {
          "data": {
            "text/html": [
              "<div>\n",
              "<style scoped>\n",
              "    .dataframe tbody tr th:only-of-type {\n",
              "        vertical-align: middle;\n",
              "    }\n",
              "\n",
              "    .dataframe tbody tr th {\n",
              "        vertical-align: top;\n",
              "    }\n",
              "\n",
              "    .dataframe thead th {\n",
              "        text-align: right;\n",
              "    }\n",
              "</style>\n",
              "<table border=\"1\" class=\"dataframe\">\n",
              "  <thead>\n",
              "    <tr style=\"text-align: right;\">\n",
              "      <th></th>\n",
              "      <th>age</th>\n",
              "      <th>sex</th>\n",
              "      <th>class</th>\n",
              "      <th>fare</th>\n",
              "      <th>survived</th>\n",
              "    </tr>\n",
              "  </thead>\n",
              "  <tbody>\n",
              "    <tr>\n",
              "      <th>0</th>\n",
              "      <td>22.0</td>\n",
              "      <td>male</td>\n",
              "      <td>Third</td>\n",
              "      <td>7.2500</td>\n",
              "      <td>0</td>\n",
              "    </tr>\n",
              "    <tr>\n",
              "      <th>1</th>\n",
              "      <td>38.0</td>\n",
              "      <td>female</td>\n",
              "      <td>First</td>\n",
              "      <td>71.2833</td>\n",
              "      <td>1</td>\n",
              "    </tr>\n",
              "    <tr>\n",
              "      <th>2</th>\n",
              "      <td>26.0</td>\n",
              "      <td>female</td>\n",
              "      <td>Third</td>\n",
              "      <td>7.9250</td>\n",
              "      <td>1</td>\n",
              "    </tr>\n",
              "    <tr>\n",
              "      <th>3</th>\n",
              "      <td>35.0</td>\n",
              "      <td>female</td>\n",
              "      <td>First</td>\n",
              "      <td>53.1000</td>\n",
              "      <td>1</td>\n",
              "    </tr>\n",
              "    <tr>\n",
              "      <th>4</th>\n",
              "      <td>35.0</td>\n",
              "      <td>male</td>\n",
              "      <td>Third</td>\n",
              "      <td>8.0500</td>\n",
              "      <td>0</td>\n",
              "    </tr>\n",
              "  </tbody>\n",
              "</table>\n",
              "</div>"
            ],
            "text/plain": [
              "    age     sex  class     fare  survived\n",
              "0  22.0    male  Third   7.2500         0\n",
              "1  38.0  female  First  71.2833         1\n",
              "2  26.0  female  Third   7.9250         1\n",
              "3  35.0  female  First  53.1000         1\n",
              "4  35.0    male  Third   8.0500         0"
            ]
          },
          "execution_count": 7,
          "metadata": {},
          "output_type": "execute_result"
        }
      ],
      "source": [
        "import pandas as pd\n",
        "import seaborn as sns\n",
        "\n",
        "df = sns.load_dataset('titanic')[['age','sex','class','fare','survived']]\n",
        "df.head()"
      ]
    },
    {
      "cell_type": "code",
      "execution_count": 8,
      "metadata": {
        "colab": {
          "base_uri": "https://localhost:8080/",
          "height": 175
        },
        "id": "VmBbVTHI1ZDu",
        "outputId": "a7d2ec48-5666-47a0-d48d-213a21291fdb"
      },
      "outputs": [
        {
          "data": {
            "text/html": [
              "<div>\n",
              "<style scoped>\n",
              "    .dataframe tbody tr th:only-of-type {\n",
              "        vertical-align: middle;\n",
              "    }\n",
              "\n",
              "    .dataframe tbody tr th {\n",
              "        vertical-align: top;\n",
              "    }\n",
              "\n",
              "    .dataframe thead th {\n",
              "        text-align: right;\n",
              "    }\n",
              "</style>\n",
              "<table border=\"1\" class=\"dataframe\">\n",
              "  <thead>\n",
              "    <tr style=\"text-align: right;\">\n",
              "      <th>sex</th>\n",
              "      <th>female</th>\n",
              "      <th>male</th>\n",
              "    </tr>\n",
              "    <tr>\n",
              "      <th>class</th>\n",
              "      <th></th>\n",
              "      <th></th>\n",
              "    </tr>\n",
              "  </thead>\n",
              "  <tbody>\n",
              "    <tr>\n",
              "      <th>First</th>\n",
              "      <td>34.611765</td>\n",
              "      <td>41.281386</td>\n",
              "    </tr>\n",
              "    <tr>\n",
              "      <th>Second</th>\n",
              "      <td>28.722973</td>\n",
              "      <td>30.740707</td>\n",
              "    </tr>\n",
              "    <tr>\n",
              "      <th>Third</th>\n",
              "      <td>21.750000</td>\n",
              "      <td>26.507589</td>\n",
              "    </tr>\n",
              "  </tbody>\n",
              "</table>\n",
              "</div>"
            ],
            "text/plain": [
              "sex        female       male\n",
              "class                       \n",
              "First   34.611765  41.281386\n",
              "Second  28.722973  30.740707\n",
              "Third   21.750000  26.507589"
            ]
          },
          "execution_count": 8,
          "metadata": {},
          "output_type": "execute_result"
        }
      ],
      "source": [
        "pdf1 = pd.pivot_table(df,                # 피벗할 데이터프레임\n",
        "                     index = 'class',    # 행 위치에 들어갈 열\n",
        "                     columns = 'sex',    # 열 위치에 들어갈 열\n",
        "                     values = 'age',     # 데이터로 사용할 열\n",
        "                     aggfunc = 'mean')   # 데이터 집계함수\n",
        "pdf1"
      ]
    },
    {
      "cell_type": "code",
      "execution_count": 9,
      "metadata": {
        "colab": {
          "base_uri": "https://localhost:8080/",
          "height": 206
        },
        "id": "xvTjBOpG10ll",
        "outputId": "7b98bd49-7efe-4c74-b156-cf3b198b30f7"
      },
      "outputs": [
        {
          "data": {
            "text/html": [
              "<div>\n",
              "<style scoped>\n",
              "    .dataframe tbody tr th:only-of-type {\n",
              "        vertical-align: middle;\n",
              "    }\n",
              "\n",
              "    .dataframe tbody tr th {\n",
              "        vertical-align: top;\n",
              "    }\n",
              "\n",
              "    .dataframe thead tr th {\n",
              "        text-align: left;\n",
              "    }\n",
              "\n",
              "    .dataframe thead tr:last-of-type th {\n",
              "        text-align: right;\n",
              "    }\n",
              "</style>\n",
              "<table border=\"1\" class=\"dataframe\">\n",
              "  <thead>\n",
              "    <tr>\n",
              "      <th></th>\n",
              "      <th colspan=\"2\" halign=\"left\">mean</th>\n",
              "      <th colspan=\"2\" halign=\"left\">sum</th>\n",
              "    </tr>\n",
              "    <tr>\n",
              "      <th>sex</th>\n",
              "      <th>female</th>\n",
              "      <th>male</th>\n",
              "      <th>female</th>\n",
              "      <th>male</th>\n",
              "    </tr>\n",
              "    <tr>\n",
              "      <th>class</th>\n",
              "      <th></th>\n",
              "      <th></th>\n",
              "      <th></th>\n",
              "      <th></th>\n",
              "    </tr>\n",
              "  </thead>\n",
              "  <tbody>\n",
              "    <tr>\n",
              "      <th>First</th>\n",
              "      <td>0.968085</td>\n",
              "      <td>0.368852</td>\n",
              "      <td>91</td>\n",
              "      <td>45</td>\n",
              "    </tr>\n",
              "    <tr>\n",
              "      <th>Second</th>\n",
              "      <td>0.921053</td>\n",
              "      <td>0.157407</td>\n",
              "      <td>70</td>\n",
              "      <td>17</td>\n",
              "    </tr>\n",
              "    <tr>\n",
              "      <th>Third</th>\n",
              "      <td>0.500000</td>\n",
              "      <td>0.135447</td>\n",
              "      <td>72</td>\n",
              "      <td>47</td>\n",
              "    </tr>\n",
              "  </tbody>\n",
              "</table>\n",
              "</div>"
            ],
            "text/plain": [
              "            mean              sum     \n",
              "sex       female      male female male\n",
              "class                                 \n",
              "First   0.968085  0.368852     91   45\n",
              "Second  0.921053  0.157407     70   17\n",
              "Third   0.500000  0.135447     72   47"
            ]
          },
          "execution_count": 9,
          "metadata": {},
          "output_type": "execute_result"
        }
      ],
      "source": [
        "pdf2 = pd.pivot_table(df,                # 피벗할 데이터프레임\n",
        "                     index = 'class',    # 행 위치에 들어갈 열\n",
        "                     columns = 'sex',    # 열 위치에 들어갈 열\n",
        "                     values = 'survived',     # 데이터로 사용할 열\n",
        "                     aggfunc = ['mean', 'sum'])   # 데이터 집계함수\n",
        "pdf2"
      ]
    },
    {
      "cell_type": "markdown",
      "metadata": {
        "id": "SPg4Oh-r1cNj"
      },
      "source": [
        "\n",
        "\n",
        "---\n",
        "\n"
      ]
    },
    {
      "cell_type": "code",
      "execution_count": 15,
      "metadata": {
        "colab": {
          "base_uri": "https://localhost:8080/"
        },
        "id": "UHAMMdNIZL-0",
        "outputId": "20ac9db0-0b86-45ac-e043-58136b8cda6f"
      },
      "outputs": [
        {
          "name": "stdout",
          "output_type": "stream",
          "text": [
            "      Name  Frequency  Importance   Type\n",
            "0    Apple          7           5  Fruit\n",
            "1   Banana          3           6  Fruit\n",
            "2  Coconut          2           6  Fruit\n",
            "3     Rice          8           2   Meal\n",
            "4     Beef          5           2   Meal\n",
            "5   Kimchi          4           8   Meal\n",
            "Type       Fruit Meal\n",
            "Importance           \n",
            "2             없음  8.0\n",
            "5            7.0   없음\n",
            "6            3.0   없음\n",
            "8             없음  4.0\n"
          ]
        }
      ],
      "source": [
        "import numpy as np\n",
        "import pandas as pd\n",
        "\n",
        "df = pd.DataFrame([\n",
        "    ['Apple', 7, 5, 'Fruit'],\n",
        "    ['Banana', 3, 6, 'Fruit'],\n",
        "    ['Coconut', 2, 6, 'Fruit'],\n",
        "    ['Rice', 8, 2, 'Meal'],\n",
        "    ['Beef', 5, 2, 'Meal'],\n",
        "    ['Kimchi', 4, 8, 'Meal']],\n",
        "   columns=[\"Name\", \"Frequency\", \"Importance\", \"Type\"])\n",
        "\n",
        "print(df)\n",
        "df = df.pivot_table(\n",
        "    index=\"Importance\", columns=\"Type\", values=\"Frequency\",\n",
        "    aggfunc=\"max\"\n",
        ")\n",
        "df=df.fillna(\"없음\")\n",
        "print(df)"
      ]
    }
  ],
  "metadata": {
    "colab": {
      "include_colab_link": true,
      "provenance": []
    },
    "kernelspec": {
      "display_name": "Python 3",
      "name": "python3"
    },
    "language_info": {
      "codemirror_mode": {
        "name": "ipython",
        "version": 3
      },
      "file_extension": ".py",
      "mimetype": "text/x-python",
      "name": "python",
      "nbconvert_exporter": "python",
      "pygments_lexer": "ipython3",
      "version": "3.10.12"
    }
  },
  "nbformat": 4,
  "nbformat_minor": 0
}
