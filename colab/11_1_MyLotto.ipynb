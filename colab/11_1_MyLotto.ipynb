{
  "nbformat": 4,
  "nbformat_minor": 0,
  "metadata": {
    "colab": {
      "provenance": [],
      "include_colab_link": true
    },
    "kernelspec": {
      "name": "python3",
      "display_name": "Python 3"
    },
    "language_info": {
      "name": "python"
    }
  },
  "cells": [
    {
      "cell_type": "markdown",
      "metadata": {
        "id": "view-in-github",
        "colab_type": "text"
      },
      "source": [
        "<a href=\"https://colab.research.google.com/github/daniel0406070/Data-SCI-basic/blob/master/MyLotto.ipynb\" target=\"_parent\"><img src=\"https://colab.research.google.com/assets/colab-badge.svg\" alt=\"Open In Colab\"/></a>"
      ]
    },
    {
      "cell_type": "code",
      "execution_count": null,
      "metadata": {
        "id": "m5teD8rueUVi"
      },
      "outputs": [],
      "source": [
        "from datascience import *\n",
        "import numpy as np\n",
        "\n",
        "%matplotlib inline\n",
        "import matplotlib.pyplot as plots\n",
        "plots.style.use('fivethirtyeight')\n",
        "\n",
        "# 랜덤 넘버 제너레이터 시작~~\n",
        "np.random.seed(3)\n"
      ]
    },
    {
      "cell_type": "code",
      "source": [
        "# a parameter: generate a list of unique random numbers (from 0 to 11)\n",
        "# size parameter: how many samples we want (12)\n",
        "# replace = True: sample with replacement\n",
        "buyCount = 10000000\n",
        "buyLottoList = []\n",
        "index = np.arange(1, buyCount+1,1)\n",
        "#index\n",
        "for i in np.arange(buyCount):\n",
        "  num_sel_temp = np.random.choice(a=45, size=6, replace=False)\n",
        "  # 뽑은 6개 숫자 보정\n",
        "  num_sel = [(b+1) for b in num_sel_temp]\n",
        "  num_sel = sorted(num_sel)\n",
        "  buyLottoList.append(num_sel)\n"
      ],
      "metadata": {
        "id": "E5Q7hOv3EDc2"
      },
      "execution_count": null,
      "outputs": []
    },
    {
      "cell_type": "code",
      "source": [
        "myLotto = [32, 18, 20, 21, 37, 39]\n",
        "myLotto= sorted(myLotto)\n",
        "myLotto"
      ],
      "metadata": {
        "colab": {
          "base_uri": "https://localhost:8080/"
        },
        "id": "OwK9KpRISqF_",
        "outputId": "6035e8fb-6d5f-4b06-a565-f0556b4e2fec"
      },
      "execution_count": null,
      "outputs": [
        {
          "output_type": "execute_result",
          "data": {
            "text/plain": [
              "[18, 20, 21, 32, 37, 39]"
            ]
          },
          "metadata": {},
          "execution_count": 3
        }
      ]
    },
    {
      "cell_type": "code",
      "source": [
        "lotto = Table().with_columns(\n",
        "    'Index', index,\n",
        "    'Number', buyLottoList\n",
        "    )\n",
        "lotto"
      ],
      "metadata": {
        "id": "G7NKnTYyCjgX",
        "colab": {
          "base_uri": "https://localhost:8080/",
          "height": 392
        },
        "outputId": "75a64043-80cc-4fcd-9fc9-c219153fc4ae"
      },
      "execution_count": null,
      "outputs": [
        {
          "output_type": "execute_result",
          "data": {
            "text/plain": [
              "Index | Number\n",
              "1     | [10 13 14 17 24 45]\n",
              "2     | [10 15 20 27 37 41]\n",
              "3     | [7 15 16 24 38 42]\n",
              "4     | [3 4 11 26 28 30]\n",
              "5     | [4 20 24 28 33 41]\n",
              "6     | [2 16 28 29 31 41]\n",
              "7     | [10 11 17 29 36 45]\n",
              "8     | [12 16 28 30 33 40]\n",
              "9     | [3 8 17 18 23 30]\n",
              "10    | [5 7 17 20 34 45]\n",
              "... (9999990 rows omitted)"
            ],
            "text/html": [
              "<table border=\"1\" class=\"dataframe\">\n",
              "    <thead>\n",
              "        <tr>\n",
              "            <th>Index</th> <th>Number</th>\n",
              "        </tr>\n",
              "    </thead>\n",
              "    <tbody>\n",
              "        <tr>\n",
              "            <td>1    </td> <td>[10 13 14 17 24 45]</td>\n",
              "        </tr>\n",
              "        <tr>\n",
              "            <td>2    </td> <td>[10 15 20 27 37 41]</td>\n",
              "        </tr>\n",
              "        <tr>\n",
              "            <td>3    </td> <td>[7 15 16 24 38 42] </td>\n",
              "        </tr>\n",
              "        <tr>\n",
              "            <td>4    </td> <td>[3 4 11 26 28 30]  </td>\n",
              "        </tr>\n",
              "        <tr>\n",
              "            <td>5    </td> <td>[4 20 24 28 33 41] </td>\n",
              "        </tr>\n",
              "        <tr>\n",
              "            <td>6    </td> <td>[2 16 28 29 31 41] </td>\n",
              "        </tr>\n",
              "        <tr>\n",
              "            <td>7    </td> <td>[10 11 17 29 36 45]</td>\n",
              "        </tr>\n",
              "        <tr>\n",
              "            <td>8    </td> <td>[12 16 28 30 33 40]</td>\n",
              "        </tr>\n",
              "        <tr>\n",
              "            <td>9    </td> <td>[3 8 17 18 23 30]  </td>\n",
              "        </tr>\n",
              "        <tr>\n",
              "            <td>10   </td> <td>[5 7 17 20 34 45]  </td>\n",
              "        </tr>\n",
              "    </tbody>\n",
              "</table>\n",
              "<p>... (9999990 rows omitted)</p>"
            ]
          },
          "metadata": {},
          "execution_count": 4
        }
      ]
    },
    {
      "cell_type": "code",
      "source": [
        "#numSel = lotto.sample(6, False) # sampling without replacement\n",
        "#numSel"
      ],
      "metadata": {
        "id": "ZwqHjqd0DDE2"
      },
      "execution_count": null,
      "outputs": []
    },
    {
      "cell_type": "code",
      "source": [
        "def win_lotto(lotto):\n",
        "  for i in range(buyCount):\n",
        "    if lotto == buyLottoList[i]:\n",
        "      return 1\n",
        "  return -1\n",
        "\n",
        "def win_lotto_count(lotto):\n",
        "  cnt = 0\n",
        "  for i in range(buyCount):\n",
        "    if lotto == buyLottoList[i]:\n",
        "      cnt = cnt +1\n",
        "  return cnt"
      ],
      "metadata": {
        "id": "t9rM86AGQhIS"
      },
      "execution_count": null,
      "outputs": []
    },
    {
      "cell_type": "code",
      "source": [
        "win_lotto(myLotto)"
      ],
      "metadata": {
        "colab": {
          "base_uri": "https://localhost:8080/"
        },
        "id": "e237Or2QR4Xu",
        "outputId": "03095b8f-bf1b-4cf2-cf5c-63142e64e34e"
      },
      "execution_count": null,
      "outputs": [
        {
          "output_type": "execute_result",
          "data": {
            "text/plain": [
              "-1"
            ]
          },
          "metadata": {},
          "execution_count": 6
        }
      ]
    },
    {
      "cell_type": "code",
      "source": [
        " win_lotto_count(myLotto)"
      ],
      "metadata": {
        "colab": {
          "base_uri": "https://localhost:8080/"
        },
        "id": "KNiwT5eTVBqY",
        "outputId": "0f041fea-1920-459e-f36e-d439f665ba95"
      },
      "execution_count": null,
      "outputs": [
        {
          "output_type": "execute_result",
          "data": {
            "text/plain": [
              "0"
            ]
          },
          "metadata": {},
          "execution_count": 7
        }
      ]
    }
  ]
}