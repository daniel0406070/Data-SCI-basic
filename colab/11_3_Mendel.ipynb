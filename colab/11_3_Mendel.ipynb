{
  "nbformat": 4,
  "nbformat_minor": 0,
  "metadata": {
    "colab": {
      "provenance": [],
      "include_colab_link": true
    },
    "kernelspec": {
      "name": "python3",
      "display_name": "Python 3"
    },
    "language_info": {
      "name": "python"
    }
  },
  "cells": [
    {
      "cell_type": "markdown",
      "metadata": {
        "id": "view-in-github",
        "colab_type": "text"
      },
      "source": [
        "<a href=\"https://colab.research.google.com/github/daniel0406070/Data-SCI-basic/blob/master/Mendel.ipynb\" target=\"_parent\"><img src=\"https://colab.research.google.com/assets/colab-badge.svg\" alt=\"Open In Colab\"/></a>"
      ]
    },
    {
      "cell_type": "code",
      "execution_count": null,
      "metadata": {
        "id": "m5teD8rueUVi"
      },
      "outputs": [],
      "source": [
        "from datascience import *\n",
        "import numpy as np\n",
        "\n",
        "%matplotlib inline\n",
        "import matplotlib.pyplot as plots\n",
        "plots.style.use('fivethirtyeight')\n",
        "\n",
        "# 랜덤 넘버 제너레이터 시작~~\n",
        "#np.random.seed(3)\n"
      ]
    },
    {
      "cell_type": "code",
      "source": [
        "flowers = Table().with_columns(\n",
        "'Color', make_array('Purple', 'White'),\n",
        "'Model Proportion', make_array(0.75, 0.25),\n",
        "'Plants', make_array(705, 224)\n",
        ")\n",
        "flowers"
      ],
      "metadata": {
        "colab": {
          "base_uri": "https://localhost:8080/",
          "height": 112
        },
        "id": "URNmQUCpWgno",
        "outputId": "aa2d75f4-a73d-43e7-b3b3-3161e4081707"
      },
      "execution_count": null,
      "outputs": [
        {
          "output_type": "execute_result",
          "data": {
            "text/plain": [
              "Color  | Model Proportion | Plants\n",
              "Purple | 0.75             | 705\n",
              "White  | 0.25             | 224"
            ],
            "text/html": [
              "<table border=\"1\" class=\"dataframe\">\n",
              "    <thead>\n",
              "        <tr>\n",
              "            <th>Color</th> <th>Model Proportion</th> <th>Plants</th>\n",
              "        </tr>\n",
              "    </thead>\n",
              "    <tbody>\n",
              "        <tr>\n",
              "            <td>Purple</td> <td>0.75            </td> <td>705   </td>\n",
              "        </tr>\n",
              "        <tr>\n",
              "            <td>White </td> <td>0.25            </td> <td>224   </td>\n",
              "        </tr>\n",
              "    </tbody>\n",
              "</table>"
            ]
          },
          "metadata": {},
          "execution_count": 2
        }
      ]
    },
    {
      "cell_type": "code",
      "source": [
        "total_plants = flowers.column('Plants').sum()\n",
        "total_plants"
      ],
      "metadata": {
        "colab": {
          "base_uri": "https://localhost:8080/"
        },
        "id": "Skuz7friXZBz",
        "outputId": "d46ce524-5612-425d-bf6f-f92ff8c2681d"
      },
      "execution_count": null,
      "outputs": [
        {
          "output_type": "execute_result",
          "data": {
            "text/plain": [
              "929"
            ]
          },
          "metadata": {},
          "execution_count": 3
        }
      ]
    },
    {
      "cell_type": "code",
      "source": [
        "observed_proportion = flowers.column('Plants').item(0)/total_plants\n",
        "observed_proportion"
      ],
      "metadata": {
        "colab": {
          "base_uri": "https://localhost:8080/"
        },
        "id": "CdCAGn7IXgkE",
        "outputId": "32a545e4-1a59-42ba-a333-914c5a6995f1"
      },
      "execution_count": null,
      "outputs": [
        {
          "output_type": "execute_result",
          "data": {
            "text/plain": [
              "0.7588805166846071"
            ]
          },
          "metadata": {},
          "execution_count": 4
        }
      ]
    },
    {
      "cell_type": "code",
      "source": [
        "observed_statistic = abs(observed_proportion - 0.75)\n",
        "observed_statistic"
      ],
      "metadata": {
        "colab": {
          "base_uri": "https://localhost:8080/"
        },
        "id": "WplDD7CiXmYJ",
        "outputId": "8c69d94a-2985-499b-fa8f-39069e1a6c88"
      },
      "execution_count": null,
      "outputs": [
        {
          "output_type": "execute_result",
          "data": {
            "text/plain": [
              "0.0088805166846070982"
            ]
          },
          "metadata": {},
          "execution_count": 5
        }
      ]
    },
    {
      "cell_type": "code",
      "source": [
        "model_colors = make_array('Purple', 'Purple', 'Purple', 'White')\n",
        "new_sample = np.random.choice(model_colors, total_plants)"
      ],
      "metadata": {
        "id": "eAKvGtGmXq30"
      },
      "execution_count": null,
      "outputs": []
    },
    {
      "cell_type": "code",
      "source": [
        "proportion_purple = np.count_nonzero(new_sample == 'Purple')/total_plants\n",
        "abs(proportion_purple - 0.75)"
      ],
      "metadata": {
        "colab": {
          "base_uri": "https://localhost:8080/"
        },
        "id": "8tuiLqJRXzOD",
        "outputId": "8e536b12-0b91-404b-83e6-74f0338986af"
      },
      "execution_count": null,
      "outputs": [
        {
          "output_type": "execute_result",
          "data": {
            "text/plain": [
              "0.017491926803014035"
            ]
          },
          "metadata": {},
          "execution_count": 7
        }
      ]
    },
    {
      "cell_type": "code",
      "source": [
        "repetitions = 5000\n",
        "sampled_stats = make_array()\n",
        "for i in np.arange(repetitions):\n",
        "    new_sample = np.random.choice(model_colors, total_plants)\n",
        "    proportion_purple = np.count_nonzero(new_sample == 'Purple')/total_plants\n",
        "    sampled_stats = np.append(sampled_stats, abs(proportion_purple - 0.75))\n",
        "\n",
        "results = Table().with_column('Distance from 0.75', sampled_stats)\n",
        "results.hist()"
      ],
      "metadata": {
        "colab": {
          "base_uri": "https://localhost:8080/",
          "height": 410
        },
        "id": "Yrb2slaSX6tu",
        "outputId": "2ddb9db7-fcea-48a5-c5df-9104bd85946d"
      },
      "execution_count": null,
      "outputs": [
        {
          "output_type": "display_data",
          "data": {
            "text/plain": [
              "<Figure size 600x400 with 1 Axes>"
            ],
            "image/png": "[encoded data removed]"
          },
          "metadata": {}
        }
      ]
    },
    {
      "cell_type": "code",
      "source": [
        "results.hist()\n",
        "#Plot the observed statistic as a large red point on the horizontal axis\n",
        "plots.scatter(observed_statistic, 10, color='red', s=50);"
      ],
      "metadata": {
        "colab": {
          "base_uri": "https://localhost:8080/",
          "height": 410
        },
        "id": "eT5LKnF1YIx1",
        "outputId": "b7f9d7f4-11c8-41f5-911f-af526e276053"
      },
      "execution_count": null,
      "outputs": [
        {
          "output_type": "display_data",
          "data": {
            "text/plain": [
              "<Figure size 600x400 with 1 Axes>"
            ],
            "image/png": "[encoded data removed]"
          },
          "metadata": {}
        }
      ]
    },
    {
      "cell_type": "markdown",
      "source": [
        "the **observed significance level** or **P-value** for short.\n",
        "\n",
        "The P-value is a chance computed using the probability distribution of the test statistic, and can be approximated by using the empirical distribution in Step 3."
      ],
      "metadata": {
        "id": "TDb7yc54-R9j"
      }
    },
    {
      "cell_type": "markdown",
      "source": [
        "Place the observed test statistic on the horizontal axis of the histogram, and find the proportion in the tail starting at that point. That's the P-value, or rather a pretty good approximation to the P-value based on the empirical distribution."
      ],
      "metadata": {
        "id": "COu-EGHG_GCM"
      }
    },
    {
      "cell_type": "code",
      "source": [
        "sampled_stats"
      ],
      "metadata": {
        "colab": {
          "base_uri": "https://localhost:8080/"
        },
        "id": "jCdRTMaiZSAY",
        "outputId": "6d5d6a1f-1dbf-4541-f2e0-87204d4480f8"
      },
      "execution_count": null,
      "outputs": [
        {
          "output_type": "execute_result",
          "data": {
            "text/plain": [
              "array([ 0.01533907,  0.02018299,  0.01803014, ...,  0.00780409,\n",
              "        0.01157158,  0.00672766])"
            ]
          },
          "metadata": {},
          "execution_count": 13
        }
      ]
    },
    {
      "cell_type": "code",
      "source": [
        "empirical_P = np.count_nonzero(sampled_stats >= observed_statistic)/repetitions\n",
        "empirical_P"
      ],
      "metadata": {
        "colab": {
          "base_uri": "https://localhost:8080/"
        },
        "id": "2kNoDobpYPik",
        "outputId": "ec8cbc74-c44a-4381-8c76-a29edcbafbf0"
      },
      "execution_count": null,
      "outputs": [
        {
          "output_type": "execute_result",
          "data": {
            "text/plain": [
              "0.545"
            ]
          },
          "metadata": {},
          "execution_count": 14
        }
      ]
    },
    {
      "cell_type": "markdown",
      "source": [
        "The observed statistic of 0.00888 is pretty close to the median of all the values of the statistic generated under Mendel's model. You can think of that as a quantification of our earlier comment that the observed statistic is \"right in the heart\" of the distribution predicted by the null."
      ],
      "metadata": {
        "id": "Qv09c1TRRMmh"
      }
    },
    {
      "cell_type": "code",
      "source": [
        "np.count_nonzero(sampled_stats >= 0.035)/repetitions"
      ],
      "metadata": {
        "colab": {
          "base_uri": "https://localhost:8080/"
        },
        "id": "xYsdCl8xYTnz",
        "outputId": "b440f928-62be-458d-e2bf-358b83a36b00"
      },
      "execution_count": null,
      "outputs": [
        {
          "output_type": "execute_result",
          "data": {
            "text/plain": [
              "0.0146"
            ]
          },
          "metadata": {},
          "execution_count": 15
        }
      ]
    },
    {
      "cell_type": "markdown",
      "source": [
        "If a P-value is small, that means the tail beyond it is small,\n",
        "and so the observed statistic is far away from what the null predicts. This implies that the data support the alternative hypothesis better than they support the null.\n",
        "\n",
        "So if our observed statistic had been 0.035 instead of 0.00888, we would have chosen the\n",
        "alternative hypothesis."
      ],
      "metadata": {
        "id": "GSueBpthQzlu"
      }
    },
    {
      "cell_type": "markdown",
      "source": [
        "How small is \"small\"? There are conventions for this.\n",
        "\n",
        "\n",
        "If the P-value is less than 5%, the result is called **\"statistically significant.\"**\n",
        "\n",
        "If the P-value is even smaller – less than 1% – the result is called **\"highly statistically significant.\"**\n",
        "\n",
        "In both cases, the test concludes that the data support the alternative hypothesis."
      ],
      "metadata": {
        "id": "bsPs32SpQ1pZ"
      }
    },
    {
      "cell_type": "markdown",
      "source": [
        "The method of statistical testing – choosing between hypotheses based on data in random samples – was developed by Sir Ronald Fisher in the early 20th century.\n",
        "\n",
        "Sir Ronald might have set the convention for statistical significance somewhat unwittingly, in the following statement in his 1925 book Statistical Methods for Research Workers. About the 5% level, he wrote, \"It is convenient to take"
      ],
      "metadata": {
        "id": "SuveVXQ5Rt5a"
      }
    },
    {
      "cell_type": "markdown",
      "source": [],
      "metadata": {
        "id": "n9xrBNVv78pj"
      }
    }
  ]
}