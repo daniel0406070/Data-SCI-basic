{
  "cells": [
    {
      "cell_type": "markdown",
      "metadata": {
        "colab_type": "text",
        "id": "view-in-github"
      },
      "source": [
        "<a href=\"https://colab.research.google.com/github/daniel0406070/Data-SCI-basic/blob/master/movie_sampling.ipynb\" target=\"_parent\"><img src=\"https://colab.research.google.com/assets/colab-badge.svg\" alt=\"Open In Colab\"/></a>"
      ]
    },
    {
      "cell_type": "code",
      "execution_count": 2,
      "metadata": {
        "id": "TLzLi5fsb3HB"
      },
      "outputs": [],
      "source": [
        "from datascience import *\n",
        "import numpy as np\n",
        "\n",
        "%matplotlib inline\n",
        "import matplotlib.pyplot as plots\n",
        "plots.style.use('fivethirtyeight')\n",
        "path=\"/home/daniel/code_space/Data-SCI-basic/csv/\""
      ]
    },
    {
      "cell_type": "code",
      "execution_count": 3,
      "metadata": {
        "colab": {
          "base_uri": "https://localhost:8080/",
          "height": 392
        },
        "id": "-PLu49-1c3In",
        "outputId": "205f8810-a585-47dc-cb60-004c0093c883"
      },
      "outputs": [
        {
          "data": {
            "text/html": [
              "<table border=\"1\" class=\"dataframe\">\n",
              "    <thead>\n",
              "        <tr>\n",
              "            <th>Row Index</th> <th>Title</th> <th>Studio</th> <th>Gross</th> <th>Gross (Adjusted)</th> <th>Year</th>\n",
              "        </tr>\n",
              "    </thead>\n",
              "    <tbody>\n",
              "        <tr>\n",
              "            <td>0        </td> <td>Star Wars: The Force Awakens             </td> <td>Buena Vista (Disney)</td> <td>906,723,418</td> <td>906,723,400     </td> <td>2015</td>\n",
              "        </tr>\n",
              "        <tr>\n",
              "            <td>1        </td> <td>Avatar                                   </td> <td>Fox                 </td> <td>760,507,625</td> <td>846,120,800     </td> <td>2009</td>\n",
              "        </tr>\n",
              "        <tr>\n",
              "            <td>2        </td> <td>Titanic                                  </td> <td>Paramount           </td> <td>658,672,302</td> <td>1,178,627,900   </td> <td>1997</td>\n",
              "        </tr>\n",
              "        <tr>\n",
              "            <td>3        </td> <td>Jurassic World                           </td> <td>Universal           </td> <td>652,270,625</td> <td>687,728,000     </td> <td>2015</td>\n",
              "        </tr>\n",
              "        <tr>\n",
              "            <td>4        </td> <td>Marvel's The Avengers                    </td> <td>Buena Vista (Disney)</td> <td>623,357,910</td> <td>668,866,600     </td> <td>2012</td>\n",
              "        </tr>\n",
              "        <tr>\n",
              "            <td>5        </td> <td>The Dark Knight                          </td> <td>Warner Bros.        </td> <td>534,858,444</td> <td>647,761,600     </td> <td>2008</td>\n",
              "        </tr>\n",
              "        <tr>\n",
              "            <td>6        </td> <td>Star Wars: Episode I - The Phantom Menace</td> <td>Fox                 </td> <td>474,544,677</td> <td>785,715,000     </td> <td>1999</td>\n",
              "        </tr>\n",
              "        <tr>\n",
              "            <td>7        </td> <td>Star Wars                                </td> <td>Fox                 </td> <td>460,998,007</td> <td>1,549,640,500   </td> <td>1977</td>\n",
              "        </tr>\n",
              "        <tr>\n",
              "            <td>8        </td> <td>Avengers: Age of Ultron                  </td> <td>Buena Vista (Disney)</td> <td>459,005,868</td> <td>465,684,200     </td> <td>2015</td>\n",
              "        </tr>\n",
              "        <tr>\n",
              "            <td>9        </td> <td>The Dark Knight Rises                    </td> <td>Warner Bros.        </td> <td>448,139,099</td> <td>500,961,700     </td> <td>2012</td>\n",
              "        </tr>\n",
              "    </tbody>\n",
              "</table>\n",
              "<p>... (190 rows omitted)</p>"
            ],
            "text/plain": [
              "Row Index | Title                                     | Studio               | Gross       | Gross (Adjusted) | Year\n",
              "0         | Star Wars: The Force Awakens              | Buena Vista (Disney) | 906,723,418 | 906,723,400      | 2015\n",
              "1         | Avatar                                    | Fox                  | 760,507,625 | 846,120,800      | 2009\n",
              "2         | Titanic                                   | Paramount            | 658,672,302 | 1,178,627,900    | 1997\n",
              "3         | Jurassic World                            | Universal            | 652,270,625 | 687,728,000      | 2015\n",
              "4         | Marvel's The Avengers                     | Buena Vista (Disney) | 623,357,910 | 668,866,600      | 2012\n",
              "5         | The Dark Knight                           | Warner Bros.         | 534,858,444 | 647,761,600      | 2008\n",
              "6         | Star Wars: Episode I - The Phantom Menace | Fox                  | 474,544,677 | 785,715,000      | 1999\n",
              "7         | Star Wars                                 | Fox                  | 460,998,007 | 1,549,640,500    | 1977\n",
              "8         | Avengers: Age of Ultron                   | Buena Vista (Disney) | 459,005,868 | 465,684,200      | 2015\n",
              "9         | The Dark Knight Rises                     | Warner Bros.         | 448,139,099 | 500,961,700      | 2012\n",
              "... (190 rows omitted)"
            ]
          },
          "execution_count": 3,
          "metadata": {},
          "output_type": "execute_result"
        }
      ],
      "source": [
        "top1 = Table.read_table(path+'top_movies.csv') # table로 읽어오기\n",
        "\n",
        "top2 = top1.with_column('Row Index', np.arange(top1.num_rows)) # row index 추가\n",
        "top = top2.move_to_start('Row Index') # row index를 앞으로 이동\n",
        "\n",
        "top.set_format(make_array(3, 4), NumberFormatter) # 3, 4번째 column을 숫자로 바꾸기"
      ]
    },
    {
      "cell_type": "code",
      "execution_count": 4,
      "metadata": {
        "colab": {
          "base_uri": "https://localhost:8080/",
          "height": 143
        },
        "id": "2KLq7vcmc-3N",
        "outputId": "b14375fd-d72f-4319-9100-32ac0a0a2d34"
      },
      "outputs": [
        {
          "data": {
            "text/html": [
              "<table border=\"1\" class=\"dataframe\">\n",
              "    <thead>\n",
              "        <tr>\n",
              "            <th>Row Index</th> <th>Title</th> <th>Studio</th> <th>Gross</th> <th>Gross (Adjusted)</th> <th>Year</th>\n",
              "        </tr>\n",
              "    </thead>\n",
              "    <tbody>\n",
              "        <tr>\n",
              "            <td>3        </td> <td>Jurassic World    </td> <td>Universal</td> <td>652,270,625</td> <td>687,728,000     </td> <td>2015</td>\n",
              "        </tr>\n",
              "        <tr>\n",
              "            <td>18       </td> <td>Spider-Man        </td> <td>Sony     </td> <td>403,706,375</td> <td>604,517,300     </td> <td>2002</td>\n",
              "        </tr>\n",
              "        <tr>\n",
              "            <td>100      </td> <td>Gone with the Wind</td> <td>MGM      </td> <td>198,676,459</td> <td>1,757,788,200   </td> <td>1939</td>\n",
              "        </tr>\n",
              "    </tbody>\n",
              "</table>"
            ],
            "text/plain": [
              "Row Index | Title              | Studio    | Gross       | Gross (Adjusted) | Year\n",
              "3         | Jurassic World     | Universal | 652,270,625 | 687,728,000      | 2015\n",
              "18        | Spider-Man         | Sony      | 403,706,375 | 604,517,300      | 2002\n",
              "100       | Gone with the Wind | MGM       | 198,676,459 | 1,757,788,200    | 1939"
            ]
          },
          "execution_count": 4,
          "metadata": {},
          "output_type": "execute_result"
        }
      ],
      "source": [
        "top.take(make_array(3, 18, 100))"
      ]
    },
    {
      "cell_type": "code",
      "execution_count": 5,
      "metadata": {
        "colab": {
          "base_uri": "https://localhost:8080/",
          "height": 269
        },
        "id": "ePAzsggndB2G",
        "outputId": "54b03755-516f-4c5a-eebc-289b9a5a1d75"
      },
      "outputs": [
        {
          "data": {
            "text/html": [
              "<table border=\"1\" class=\"dataframe\">\n",
              "    <thead>\n",
              "        <tr>\n",
              "            <th>Row Index</th> <th>Title</th> <th>Studio</th> <th>Gross</th> <th>Gross (Adjusted)</th> <th>Year</th>\n",
              "        </tr>\n",
              "    </thead>\n",
              "    <tbody>\n",
              "        <tr>\n",
              "            <td>22       </td> <td>Harry Potter and the Deathly Hallows Part 2</td> <td>Warner Bros.</td> <td>381,011,219</td> <td>417,512,200     </td> <td>2011</td>\n",
              "        </tr>\n",
              "        <tr>\n",
              "            <td>43       </td> <td>Harry Potter and the Sorcerer's Stone      </td> <td>Warner Bros.</td> <td>317,575,550</td> <td>486,442,900     </td> <td>2001</td>\n",
              "        </tr>\n",
              "        <tr>\n",
              "            <td>54       </td> <td>Harry Potter and the Half-Blood Prince     </td> <td>Warner Bros.</td> <td>301,959,197</td> <td>352,098,800     </td> <td>2009</td>\n",
              "        </tr>\n",
              "        <tr>\n",
              "            <td>59       </td> <td>Harry Potter and the Order of the Phoenix  </td> <td>Warner Bros.</td> <td>292,004,738</td> <td>369,250,200     </td> <td>2007</td>\n",
              "        </tr>\n",
              "        <tr>\n",
              "            <td>62       </td> <td>Harry Potter and the Goblet of Fire        </td> <td>Warner Bros.</td> <td>290,013,036</td> <td>393,024,800     </td> <td>2005</td>\n",
              "        </tr>\n",
              "        <tr>\n",
              "            <td>69       </td> <td>Harry Potter and the Chamber of Secrets    </td> <td>Warner Bros.</td> <td>261,988,482</td> <td>390,768,100     </td> <td>2002</td>\n",
              "        </tr>\n",
              "        <tr>\n",
              "            <td>76       </td> <td>Harry Potter and the Prisoner of Azkaban   </td> <td>Warner Bros.</td> <td>249,541,069</td> <td>349,598,600     </td> <td>2004</td>\n",
              "        </tr>\n",
              "    </tbody>\n",
              "</table>"
            ],
            "text/plain": [
              "Row Index | Title                                       | Studio       | Gross       | Gross (Adjusted) | Year\n",
              "22        | Harry Potter and the Deathly Hallows Part 2 | Warner Bros. | 381,011,219 | 417,512,200      | 2011\n",
              "43        | Harry Potter and the Sorcerer's Stone       | Warner Bros. | 317,575,550 | 486,442,900      | 2001\n",
              "54        | Harry Potter and the Half-Blood Prince      | Warner Bros. | 301,959,197 | 352,098,800      | 2009\n",
              "59        | Harry Potter and the Order of the Phoenix   | Warner Bros. | 292,004,738 | 369,250,200      | 2007\n",
              "62        | Harry Potter and the Goblet of Fire         | Warner Bros. | 290,013,036 | 393,024,800      | 2005\n",
              "69        | Harry Potter and the Chamber of Secrets     | Warner Bros. | 261,988,482 | 390,768,100      | 2002\n",
              "76        | Harry Potter and the Prisoner of Azkaban    | Warner Bros. | 249,541,069 | 349,598,600      | 2004"
            ]
          },
          "execution_count": 5,
          "metadata": {},
          "output_type": "execute_result"
        }
      ],
      "source": [
        "top.where('Title', are.containing('Harry Potter'))"
      ]
    },
    {
      "cell_type": "code",
      "execution_count": 6,
      "metadata": {
        "colab": {
          "base_uri": "https://localhost:8080/",
          "height": 392
        },
        "id": "Va2Toxt5dIu5",
        "outputId": "40d0576b-8db3-4f34-840e-8e5583f39fac"
      },
      "outputs": [
        {
          "data": {
            "text/html": [
              "<table border=\"1\" class=\"dataframe\">\n",
              "    <thead>\n",
              "        <tr>\n",
              "            <th>Row Index</th> <th>Title</th> <th>Studio</th> <th>Gross</th> <th>Gross (Adjusted)</th> <th>Year</th>\n",
              "        </tr>\n",
              "    </thead>\n",
              "    <tbody>\n",
              "        <tr>\n",
              "            <td>2        </td> <td>Titanic                                    </td> <td>Paramount   </td> <td>658,672,302</td> <td>1,178,627,900   </td> <td>1997</td>\n",
              "        </tr>\n",
              "        <tr>\n",
              "            <td>12       </td> <td>The Hunger Games: Catching Fire            </td> <td>Lionsgate   </td> <td>424,668,047</td> <td>444,697,400     </td> <td>2013</td>\n",
              "        </tr>\n",
              "        <tr>\n",
              "            <td>22       </td> <td>Harry Potter and the Deathly Hallows Part 2</td> <td>Warner Bros.</td> <td>381,011,219</td> <td>417,512,200     </td> <td>2011</td>\n",
              "        </tr>\n",
              "        <tr>\n",
              "            <td>32       </td> <td>American Sniper                            </td> <td>Warner Bros.</td> <td>350,126,372</td> <td>374,796,000     </td> <td>2014</td>\n",
              "        </tr>\n",
              "        <tr>\n",
              "            <td>42       </td> <td>Iron Man                                   </td> <td>Paramount   </td> <td>318,412,101</td> <td>385,808,100     </td> <td>2008</td>\n",
              "        </tr>\n",
              "        <tr>\n",
              "            <td>52       </td> <td>Skyfall                                    </td> <td>Sony        </td> <td>304,360,277</td> <td>329,225,400     </td> <td>2012</td>\n",
              "        </tr>\n",
              "        <tr>\n",
              "            <td>62       </td> <td>Harry Potter and the Goblet of Fire        </td> <td>Warner Bros.</td> <td>290,013,036</td> <td>393,024,800     </td> <td>2005</td>\n",
              "        </tr>\n",
              "        <tr>\n",
              "            <td>72       </td> <td>Jaws                                       </td> <td>Universal   </td> <td>260,000,000</td> <td>1,114,285,700   </td> <td>1975</td>\n",
              "        </tr>\n",
              "        <tr>\n",
              "            <td>82       </td> <td>Twister                                    </td> <td>Warner Bros.</td> <td>241,721,524</td> <td>475,786,700     </td> <td>1996</td>\n",
              "        </tr>\n",
              "        <tr>\n",
              "            <td>92       </td> <td>Ghost                                      </td> <td>Paramount   </td> <td>217,631,306</td> <td>447,747,400     </td> <td>1990</td>\n",
              "        </tr>\n",
              "    </tbody>\n",
              "</table>\n",
              "<p>... (10 rows omitted)</p>"
            ],
            "text/plain": [
              "Row Index | Title                                       | Studio       | Gross       | Gross (Adjusted) | Year\n",
              "2         | Titanic                                     | Paramount    | 658,672,302 | 1,178,627,900    | 1997\n",
              "12        | The Hunger Games: Catching Fire             | Lionsgate    | 424,668,047 | 444,697,400      | 2013\n",
              "22        | Harry Potter and the Deathly Hallows Part 2 | Warner Bros. | 381,011,219 | 417,512,200      | 2011\n",
              "32        | American Sniper                             | Warner Bros. | 350,126,372 | 374,796,000      | 2014\n",
              "42        | Iron Man                                    | Paramount    | 318,412,101 | 385,808,100      | 2008\n",
              "52        | Skyfall                                     | Sony         | 304,360,277 | 329,225,400      | 2012\n",
              "62        | Harry Potter and the Goblet of Fire         | Warner Bros. | 290,013,036 | 393,024,800      | 2005\n",
              "72        | Jaws                                        | Universal    | 260,000,000 | 1,114,285,700    | 1975\n",
              "82        | Twister                                     | Warner Bros. | 241,721,524 | 475,786,700      | 1996\n",
              "92        | Ghost                                       | Paramount    | 217,631,306 | 447,747,400      | 1990\n",
              "... (10 rows omitted)"
            ]
          },
          "execution_count": 6,
          "metadata": {},
          "output_type": "execute_result"
        }
      ],
      "source": [
        "\"\"\"Choose a random start among rows 0 through 9;\n",
        "then take every 10th row.\"\"\"\n",
        "start = np.random.choice(np.arange(10))\n",
        "top.take(np.arange(start, top.num_rows, 10))"
      ]
    },
    {
      "cell_type": "code",
      "execution_count": 7,
      "metadata": {
        "colab": {
          "base_uri": "https://localhost:8080/",
          "height": 238
        },
        "id": "cpgc_HrPdKJG",
        "outputId": "e2df035c-9403-4b27-d1ce-972bac299ccd"
      },
      "outputs": [
        {
          "data": {
            "text/html": [
              "<table border=\"1\" class=\"dataframe\">\n",
              "    <thead>\n",
              "        <tr>\n",
              "            <th>Face</th>\n",
              "        </tr>\n",
              "    </thead>\n",
              "    <tbody>\n",
              "        <tr>\n",
              "            <td>1   </td>\n",
              "        </tr>\n",
              "        <tr>\n",
              "            <td>2   </td>\n",
              "        </tr>\n",
              "        <tr>\n",
              "            <td>3   </td>\n",
              "        </tr>\n",
              "        <tr>\n",
              "            <td>4   </td>\n",
              "        </tr>\n",
              "        <tr>\n",
              "            <td>5   </td>\n",
              "        </tr>\n",
              "        <tr>\n",
              "            <td>6   </td>\n",
              "        </tr>\n",
              "    </tbody>\n",
              "</table>"
            ],
            "text/plain": [
              "Face\n",
              "1\n",
              "2\n",
              "3\n",
              "4\n",
              "5\n",
              "6"
            ]
          },
          "execution_count": 7,
          "metadata": {},
          "output_type": "execute_result"
        }
      ],
      "source": [
        "die = Table().with_column('Face', np.arange(1, 7, 1))\n",
        "die"
      ]
    },
    {
      "cell_type": "code",
      "execution_count": 8,
      "metadata": {
        "colab": {
          "base_uri": "https://localhost:8080/",
          "height": 417
        },
        "id": "Jphj98-8dRYl",
        "outputId": "24831504-b5e9-4377-f7eb-0744effc4842"
      },
      "outputs": [
        {
          "data": {
            "image/png": "[encoded data removed]",
            "text/plain": [
              "<Figure size 600x400 with 1 Axes>"
            ]
          },
          "metadata": {},
          "output_type": "display_data"
        }
      ],
      "source": [
        "die_bins = np.arange(0.5, 6.6, 1)\n",
        "die.hist(bins = die_bins)"
      ]
    },
    {
      "cell_type": "code",
      "execution_count": 9,
      "metadata": {
        "colab": {
          "base_uri": "https://localhost:8080/",
          "height": 363
        },
        "id": "ci8Jm2M0dU8_",
        "outputId": "8e6932f4-c7b4-4e0c-aafc-76e998733237"
      },
      "outputs": [
        {
          "data": {
            "text/html": [
              "<table border=\"1\" class=\"dataframe\">\n",
              "    <thead>\n",
              "        <tr>\n",
              "            <th>Face</th>\n",
              "        </tr>\n",
              "    </thead>\n",
              "    <tbody>\n",
              "        <tr>\n",
              "            <td>5   </td>\n",
              "        </tr>\n",
              "        <tr>\n",
              "            <td>1   </td>\n",
              "        </tr>\n",
              "        <tr>\n",
              "            <td>1   </td>\n",
              "        </tr>\n",
              "        <tr>\n",
              "            <td>4   </td>\n",
              "        </tr>\n",
              "        <tr>\n",
              "            <td>4   </td>\n",
              "        </tr>\n",
              "        <tr>\n",
              "            <td>2   </td>\n",
              "        </tr>\n",
              "        <tr>\n",
              "            <td>2   </td>\n",
              "        </tr>\n",
              "        <tr>\n",
              "            <td>4   </td>\n",
              "        </tr>\n",
              "        <tr>\n",
              "            <td>2   </td>\n",
              "        </tr>\n",
              "        <tr>\n",
              "            <td>1   </td>\n",
              "        </tr>\n",
              "    </tbody>\n",
              "</table>"
            ],
            "text/plain": [
              "Face\n",
              "5\n",
              "1\n",
              "1\n",
              "4\n",
              "4\n",
              "2\n",
              "2\n",
              "4\n",
              "2\n",
              "1"
            ]
          },
          "execution_count": 9,
          "metadata": {},
          "output_type": "execute_result"
        }
      ],
      "source": [
        "die.sample(10)"
      ]
    },
    {
      "cell_type": "code",
      "execution_count": 10,
      "metadata": {
        "id": "nzRmkP-kdYqI"
      },
      "outputs": [],
      "source": [
        "def empirical_hist_die(n):\n",
        "  die.sample(n).hist(bins = die_bins)"
      ]
    },
    {
      "cell_type": "code",
      "execution_count": 11,
      "metadata": {
        "colab": {
          "base_uri": "https://localhost:8080/",
          "height": 410
        },
        "id": "u-X3IiWadctv",
        "outputId": "6e4967aa-ac1d-46fd-8db4-f66c874cf9b2"
      },
      "outputs": [
        {
          "data": {
            "image/png": "[encoded data removed]",
            "text/plain": [
              "<Figure size 600x400 with 1 Axes>"
            ]
          },
          "metadata": {},
          "output_type": "display_data"
        }
      ],
      "source": [
        "empirical_hist_die(10)"
      ]
    },
    {
      "cell_type": "code",
      "execution_count": 12,
      "metadata": {
        "colab": {
          "base_uri": "https://localhost:8080/",
          "height": 410
        },
        "id": "gWY09VhSdhX3",
        "outputId": "205b2231-8863-47ed-b522-56775d145fc3"
      },
      "outputs": [
        {
          "data": {
            "image/png": "[encoded data removed]",
            "text/plain": [
              "<Figure size 600x400 with 1 Axes>"
            ]
          },
          "metadata": {},
          "output_type": "display_data"
        }
      ],
      "source": [
        "empirical_hist_die(100)"
      ]
    },
    {
      "cell_type": "code",
      "execution_count": 13,
      "metadata": {
        "colab": {
          "base_uri": "https://localhost:8080/",
          "height": 410
        },
        "id": "dKwziaGNdklN",
        "outputId": "ef160a60-3916-4d1c-ea1d-7a0f3de7d6b2"
      },
      "outputs": [
        {
          "data": {
            "image/png": "[encoded data removed]",
            "text/plain": [
              "<Figure size 600x400 with 1 Axes>"
            ]
          },
          "metadata": {},
          "output_type": "display_data"
        }
      ],
      "source": [
        "empirical_hist_die(1000)"
      ]
    }
  ],
  "metadata": {
    "colab": {
      "include_colab_link": true,
      "provenance": []
    },
    "kernelspec": {
      "display_name": "Python 3",
      "name": "python3"
    },
    "language_info": {
      "codemirror_mode": {
        "name": "ipython",
        "version": 3
      },
      "file_extension": ".py",
      "mimetype": "text/x-python",
      "name": "python",
      "nbconvert_exporter": "python",
      "pygments_lexer": "ipython3",
      "version": "3.10.12"
    }
  },
  "nbformat": 4,
  "nbformat_minor": 0
}
